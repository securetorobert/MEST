{
 "cells": [
  {
   "cell_type": "code",
   "execution_count": null,
   "metadata": {},
   "outputs": [],
   "source": [
    "import numpy as np\n",
    "import pandas as pd\n",
    "from sklearn.model_selection import train_test_split\n",
    "from sklearn.linear_model import LinearRegression\n",
    "from sklearn.preprocessing import PolynomialFeatures, MinMaxScaler"
   ]
  },
  {
   "cell_type": "code",
   "execution_count": null,
   "metadata": {},
   "outputs": [],
   "source": [
    "df = pd.read_csv('./boston/train.csv')\n",
    "df.info()"
   ]
  },
  {
   "cell_type": "code",
   "execution_count": null,
   "metadata": {},
   "outputs": [],
   "source": [
    "X = df[['nox', 'rm', 'chas', 'dis', 'ptratio', 'lstat', 'rad']].values\n",
    "y = df['medv'].values"
   ]
  },
  {
   "cell_type": "code",
   "execution_count": null,
   "metadata": {},
   "outputs": [],
   "source": [
    "print(X.shape)"
   ]
  },
  {
   "cell_type": "code",
   "execution_count": null,
   "metadata": {},
   "outputs": [],
   "source": [
    "print(X)"
   ]
  },
  {
   "cell_type": "code",
   "execution_count": null,
   "metadata": {},
   "outputs": [],
   "source": [
    "scaler = MinMaxScaler()\n",
    "scaled_X = scaler.fit_transform(X)"
   ]
  },
  {
   "cell_type": "code",
   "execution_count": null,
   "metadata": {},
   "outputs": [],
   "source": [
    "print(scaled_X)"
   ]
  },
  {
   "cell_type": "code",
   "execution_count": null,
   "metadata": {},
   "outputs": [],
   "source": [
    "poly = PolynomialFeatures(2)"
   ]
  },
  {
   "cell_type": "code",
   "execution_count": null,
   "metadata": {},
   "outputs": [],
   "source": [
    "new_X = poly.fit_transform(scaled_X)"
   ]
  },
  {
   "cell_type": "code",
   "execution_count": null,
   "metadata": {},
   "outputs": [],
   "source": [
    "print(new_X.shape)"
   ]
  },
  {
   "cell_type": "code",
   "execution_count": null,
   "metadata": {},
   "outputs": [],
   "source": [
    "print(new_X)"
   ]
  },
  {
   "cell_type": "code",
   "execution_count": null,
   "metadata": {},
   "outputs": [],
   "source": [
    "X_train, X_test, y_train, y_test = train_test_split(new_X, y, test_size=0.1, random_state=40)"
   ]
  },
  {
   "cell_type": "code",
   "execution_count": null,
   "metadata": {},
   "outputs": [],
   "source": [
    "lr = LinearRegression()\n",
    "lr.fit(X_train, y_train)\n",
    "print('Score: {}'.format(lr.score(X_test, y_test)))"
   ]
  },
  {
   "cell_type": "code",
   "execution_count": null,
   "metadata": {},
   "outputs": [],
   "source": []
  },
  {
   "cell_type": "markdown",
   "metadata": {},
   "source": [
    "# New York Taxi Cab"
   ]
  },
  {
   "cell_type": "code",
   "execution_count": 1,
   "metadata": {},
   "outputs": [],
   "source": [
    "import pandas as pd"
   ]
  },
  {
   "cell_type": "code",
   "execution_count": 2,
   "metadata": {},
   "outputs": [],
   "source": [
    "df = pd.read_csv('./nyc/train.csv', nrows=100000)"
   ]
  },
  {
   "cell_type": "code",
   "execution_count": null,
   "metadata": {},
   "outputs": [],
   "source": [
    "df.info()"
   ]
  },
  {
   "cell_type": "code",
   "execution_count": null,
   "metadata": {},
   "outputs": [],
   "source": [
    "df.head()"
   ]
  },
  {
   "cell_type": "code",
   "execution_count": 3,
   "metadata": {},
   "outputs": [],
   "source": [
    "X = df[['pickup_longitude', 'pickup_latitude', 'dropoff_longitude', 'dropoff_latitude', 'passenger_count']].values\n",
    "y = df[['fare_amount']].values"
   ]
  },
  {
   "cell_type": "code",
   "execution_count": 4,
   "metadata": {},
   "outputs": [],
   "source": [
    "from sklearn.model_selection import train_test_split"
   ]
  },
  {
   "cell_type": "code",
   "execution_count": 5,
   "metadata": {},
   "outputs": [],
   "source": [
    "X_train, X_test, y_train, y_test = train_test_split(X, y, test_size=0.1, random_state=1)"
   ]
  },
  {
   "cell_type": "code",
   "execution_count": 6,
   "metadata": {},
   "outputs": [],
   "source": [
    "from sklearn.linear_model import LinearRegression"
   ]
  },
  {
   "cell_type": "code",
   "execution_count": 7,
   "metadata": {},
   "outputs": [],
   "source": [
    "linear_model = LinearRegression()"
   ]
  },
  {
   "cell_type": "code",
   "execution_count": 8,
   "metadata": {},
   "outputs": [
    {
     "data": {
      "text/plain": [
       "LinearRegression(copy_X=True, fit_intercept=True, n_jobs=None, normalize=False)"
      ]
     },
     "execution_count": 8,
     "metadata": {},
     "output_type": "execute_result"
    }
   ],
   "source": [
    "linear_model.fit(X_train, y_train)"
   ]
  },
  {
   "cell_type": "code",
   "execution_count": 9,
   "metadata": {},
   "outputs": [],
   "source": [
    "y_pred = linear_model.predict(X_test)"
   ]
  },
  {
   "cell_type": "code",
   "execution_count": 10,
   "metadata": {},
   "outputs": [],
   "source": [
    "from sklearn.metrics import mean_squared_error"
   ]
  },
  {
   "cell_type": "code",
   "execution_count": 11,
   "metadata": {},
   "outputs": [
    {
     "name": "stdout",
     "output_type": "stream",
     "text": [
      "MSE: 105.96878801867155\n"
     ]
    }
   ],
   "source": [
    "print('MSE: {}'.format(mean_squared_error(y_test, y_pred)))"
   ]
  },
  {
   "cell_type": "code",
   "execution_count": null,
   "metadata": {},
   "outputs": [],
   "source": [
    "print('Score: {}'.format(linear_model.score(X_test, y_test)))"
   ]
  },
  {
   "cell_type": "code",
   "execution_count": 12,
   "metadata": {},
   "outputs": [],
   "source": [
    "_c = pd.DataFrame({'actuals': y_test.reshape(-1), 'predicted': y_pred.reshape(-1)})"
   ]
  },
  {
   "cell_type": "code",
   "execution_count": 13,
   "metadata": {},
   "outputs": [
    {
     "data": {
      "text/html": [
       "<div>\n",
       "<style scoped>\n",
       "    .dataframe tbody tr th:only-of-type {\n",
       "        vertical-align: middle;\n",
       "    }\n",
       "\n",
       "    .dataframe tbody tr th {\n",
       "        vertical-align: top;\n",
       "    }\n",
       "\n",
       "    .dataframe thead th {\n",
       "        text-align: right;\n",
       "    }\n",
       "</style>\n",
       "<table border=\"1\" class=\"dataframe\">\n",
       "  <thead>\n",
       "    <tr style=\"text-align: right;\">\n",
       "      <th></th>\n",
       "      <th>actuals</th>\n",
       "      <th>predicted</th>\n",
       "    </tr>\n",
       "  </thead>\n",
       "  <tbody>\n",
       "    <tr>\n",
       "      <td>9995</td>\n",
       "      <td>4.9</td>\n",
       "      <td>11.233749</td>\n",
       "    </tr>\n",
       "    <tr>\n",
       "      <td>9996</td>\n",
       "      <td>7.0</td>\n",
       "      <td>11.873420</td>\n",
       "    </tr>\n",
       "    <tr>\n",
       "      <td>9997</td>\n",
       "      <td>9.7</td>\n",
       "      <td>11.234805</td>\n",
       "    </tr>\n",
       "    <tr>\n",
       "      <td>9998</td>\n",
       "      <td>5.7</td>\n",
       "      <td>11.234372</td>\n",
       "    </tr>\n",
       "    <tr>\n",
       "      <td>9999</td>\n",
       "      <td>7.7</td>\n",
       "      <td>11.362982</td>\n",
       "    </tr>\n",
       "  </tbody>\n",
       "</table>\n",
       "</div>"
      ],
      "text/plain": [
       "      actuals  predicted\n",
       "9995      4.9  11.233749\n",
       "9996      7.0  11.873420\n",
       "9997      9.7  11.234805\n",
       "9998      5.7  11.234372\n",
       "9999      7.7  11.362982"
      ]
     },
     "execution_count": 13,
     "metadata": {},
     "output_type": "execute_result"
    }
   ],
   "source": [
    "_c.tail()"
   ]
  },
  {
   "cell_type": "markdown",
   "metadata": {},
   "source": [
    "## train a better model\n",
    "### Engineer new features"
   ]
  },
  {
   "cell_type": "code",
   "execution_count": 14,
   "metadata": {},
   "outputs": [
    {
     "data": {
      "text/html": [
       "<div>\n",
       "<style scoped>\n",
       "    .dataframe tbody tr th:only-of-type {\n",
       "        vertical-align: middle;\n",
       "    }\n",
       "\n",
       "    .dataframe tbody tr th {\n",
       "        vertical-align: top;\n",
       "    }\n",
       "\n",
       "    .dataframe thead th {\n",
       "        text-align: right;\n",
       "    }\n",
       "</style>\n",
       "<table border=\"1\" class=\"dataframe\">\n",
       "  <thead>\n",
       "    <tr style=\"text-align: right;\">\n",
       "      <th></th>\n",
       "      <th>fare_amount</th>\n",
       "    </tr>\n",
       "  </thead>\n",
       "  <tbody>\n",
       "    <tr>\n",
       "      <td>count</td>\n",
       "      <td>100000.000000</td>\n",
       "    </tr>\n",
       "    <tr>\n",
       "      <td>mean</td>\n",
       "      <td>11.354652</td>\n",
       "    </tr>\n",
       "    <tr>\n",
       "      <td>std</td>\n",
       "      <td>9.716777</td>\n",
       "    </tr>\n",
       "    <tr>\n",
       "      <td>min</td>\n",
       "      <td>-44.900000</td>\n",
       "    </tr>\n",
       "    <tr>\n",
       "      <td>25%</td>\n",
       "      <td>6.000000</td>\n",
       "    </tr>\n",
       "    <tr>\n",
       "      <td>50%</td>\n",
       "      <td>8.500000</td>\n",
       "    </tr>\n",
       "    <tr>\n",
       "      <td>75%</td>\n",
       "      <td>12.500000</td>\n",
       "    </tr>\n",
       "    <tr>\n",
       "      <td>max</td>\n",
       "      <td>200.000000</td>\n",
       "    </tr>\n",
       "  </tbody>\n",
       "</table>\n",
       "</div>"
      ],
      "text/plain": [
       "         fare_amount\n",
       "count  100000.000000\n",
       "mean       11.354652\n",
       "std         9.716777\n",
       "min       -44.900000\n",
       "25%         6.000000\n",
       "50%         8.500000\n",
       "75%        12.500000\n",
       "max       200.000000"
      ]
     },
     "execution_count": 14,
     "metadata": {},
     "output_type": "execute_result"
    }
   ],
   "source": [
    "df[['fare_amount']].describe()"
   ]
  },
  {
   "cell_type": "markdown",
   "metadata": {},
   "source": [
    "## limit the fare_amount to between 1 and 39 USD"
   ]
  },
  {
   "cell_type": "code",
   "execution_count": 15,
   "metadata": {},
   "outputs": [],
   "source": [
    "new_df = df[df.fare_amount >= 1]"
   ]
  },
  {
   "cell_type": "code",
   "execution_count": 16,
   "metadata": {},
   "outputs": [
    {
     "data": {
      "text/html": [
       "<div>\n",
       "<style scoped>\n",
       "    .dataframe tbody tr th:only-of-type {\n",
       "        vertical-align: middle;\n",
       "    }\n",
       "\n",
       "    .dataframe tbody tr th {\n",
       "        vertical-align: top;\n",
       "    }\n",
       "\n",
       "    .dataframe thead th {\n",
       "        text-align: right;\n",
       "    }\n",
       "</style>\n",
       "<table border=\"1\" class=\"dataframe\">\n",
       "  <thead>\n",
       "    <tr style=\"text-align: right;\">\n",
       "      <th></th>\n",
       "      <th>fare_amount</th>\n",
       "    </tr>\n",
       "  </thead>\n",
       "  <tbody>\n",
       "    <tr>\n",
       "      <td>count</td>\n",
       "      <td>99986.000000</td>\n",
       "    </tr>\n",
       "    <tr>\n",
       "      <td>mean</td>\n",
       "      <td>11.356954</td>\n",
       "    </tr>\n",
       "    <tr>\n",
       "      <td>std</td>\n",
       "      <td>9.714608</td>\n",
       "    </tr>\n",
       "    <tr>\n",
       "      <td>min</td>\n",
       "      <td>2.500000</td>\n",
       "    </tr>\n",
       "    <tr>\n",
       "      <td>25%</td>\n",
       "      <td>6.000000</td>\n",
       "    </tr>\n",
       "    <tr>\n",
       "      <td>50%</td>\n",
       "      <td>8.500000</td>\n",
       "    </tr>\n",
       "    <tr>\n",
       "      <td>75%</td>\n",
       "      <td>12.500000</td>\n",
       "    </tr>\n",
       "    <tr>\n",
       "      <td>max</td>\n",
       "      <td>200.000000</td>\n",
       "    </tr>\n",
       "  </tbody>\n",
       "</table>\n",
       "</div>"
      ],
      "text/plain": [
       "        fare_amount\n",
       "count  99986.000000\n",
       "mean      11.356954\n",
       "std        9.714608\n",
       "min        2.500000\n",
       "25%        6.000000\n",
       "50%        8.500000\n",
       "75%       12.500000\n",
       "max      200.000000"
      ]
     },
     "execution_count": 16,
     "metadata": {},
     "output_type": "execute_result"
    }
   ],
   "source": [
    "new_df[['fare_amount']].describe()"
   ]
  },
  {
   "cell_type": "code",
   "execution_count": 17,
   "metadata": {},
   "outputs": [
    {
     "name": "stderr",
     "output_type": "stream",
     "text": [
      "/Users/robert/anaconda3/envs/tensorflow/lib/python3.7/site-packages/ipykernel_launcher.py:1: UserWarning: Boolean Series key will be reindexed to match DataFrame index.\n",
      "  \"\"\"Entry point for launching an IPython kernel.\n"
     ]
    }
   ],
   "source": [
    "new_df = new_df[df.fare_amount < 39]"
   ]
  },
  {
   "cell_type": "code",
   "execution_count": 18,
   "metadata": {},
   "outputs": [
    {
     "data": {
      "text/html": [
       "<div>\n",
       "<style scoped>\n",
       "    .dataframe tbody tr th:only-of-type {\n",
       "        vertical-align: middle;\n",
       "    }\n",
       "\n",
       "    .dataframe tbody tr th {\n",
       "        vertical-align: top;\n",
       "    }\n",
       "\n",
       "    .dataframe thead th {\n",
       "        text-align: right;\n",
       "    }\n",
       "</style>\n",
       "<table border=\"1\" class=\"dataframe\">\n",
       "  <thead>\n",
       "    <tr style=\"text-align: right;\">\n",
       "      <th></th>\n",
       "      <th>fare_amount</th>\n",
       "    </tr>\n",
       "  </thead>\n",
       "  <tbody>\n",
       "    <tr>\n",
       "      <td>count</td>\n",
       "      <td>97059.000000</td>\n",
       "    </tr>\n",
       "    <tr>\n",
       "      <td>mean</td>\n",
       "      <td>10.121116</td>\n",
       "    </tr>\n",
       "    <tr>\n",
       "      <td>std</td>\n",
       "      <td>6.306290</td>\n",
       "    </tr>\n",
       "    <tr>\n",
       "      <td>min</td>\n",
       "      <td>2.500000</td>\n",
       "    </tr>\n",
       "    <tr>\n",
       "      <td>25%</td>\n",
       "      <td>6.000000</td>\n",
       "    </tr>\n",
       "    <tr>\n",
       "      <td>50%</td>\n",
       "      <td>8.100000</td>\n",
       "    </tr>\n",
       "    <tr>\n",
       "      <td>75%</td>\n",
       "      <td>12.100000</td>\n",
       "    </tr>\n",
       "    <tr>\n",
       "      <td>max</td>\n",
       "      <td>38.900000</td>\n",
       "    </tr>\n",
       "  </tbody>\n",
       "</table>\n",
       "</div>"
      ],
      "text/plain": [
       "        fare_amount\n",
       "count  97059.000000\n",
       "mean      10.121116\n",
       "std        6.306290\n",
       "min        2.500000\n",
       "25%        6.000000\n",
       "50%        8.100000\n",
       "75%       12.100000\n",
       "max       38.900000"
      ]
     },
     "execution_count": 18,
     "metadata": {},
     "output_type": "execute_result"
    }
   ],
   "source": [
    "new_df[['fare_amount']].describe()"
   ]
  },
  {
   "cell_type": "code",
   "execution_count": 19,
   "metadata": {},
   "outputs": [],
   "source": [
    "X = new_df[['pickup_longitude', 'pickup_latitude', 'dropoff_longitude', 'dropoff_latitude', 'passenger_count']].values\n",
    "y = new_df[['fare_amount']].values\n",
    "X_train, X_test, y_train, y_test = train_test_split(X, y, test_size=0.1, random_state=1)"
   ]
  },
  {
   "cell_type": "code",
   "execution_count": 20,
   "metadata": {},
   "outputs": [
    {
     "name": "stdout",
     "output_type": "stream",
     "text": [
      "MSE: 39.25882356889852\n",
      "Score: 0.0006770765674232182\n"
     ]
    }
   ],
   "source": [
    "linear_model = LinearRegression()\n",
    "linear_model.fit(X_train, y_train)\n",
    "y_pred = linear_model.predict(X_test)\n",
    "print('MSE: {}'.format(mean_squared_error(y_test, y_pred)))\n",
    "print('Score: {}'.format(linear_model.score(X_test, y_test)))"
   ]
  },
  {
   "cell_type": "code",
   "execution_count": 21,
   "metadata": {},
   "outputs": [],
   "source": [
    "_c = pd.DataFrame({'actuals': y_test.reshape(-1), 'predicted': y_pred.reshape(-1)})"
   ]
  },
  {
   "cell_type": "code",
   "execution_count": 22,
   "metadata": {},
   "outputs": [
    {
     "data": {
      "text/html": [
       "<div>\n",
       "<style scoped>\n",
       "    .dataframe tbody tr th:only-of-type {\n",
       "        vertical-align: middle;\n",
       "    }\n",
       "\n",
       "    .dataframe tbody tr th {\n",
       "        vertical-align: top;\n",
       "    }\n",
       "\n",
       "    .dataframe thead th {\n",
       "        text-align: right;\n",
       "    }\n",
       "</style>\n",
       "<table border=\"1\" class=\"dataframe\">\n",
       "  <thead>\n",
       "    <tr style=\"text-align: right;\">\n",
       "      <th></th>\n",
       "      <th>actuals</th>\n",
       "      <th>predicted</th>\n",
       "    </tr>\n",
       "  </thead>\n",
       "  <tbody>\n",
       "    <tr>\n",
       "      <td>0</td>\n",
       "      <td>6.1</td>\n",
       "      <td>10.062809</td>\n",
       "    </tr>\n",
       "    <tr>\n",
       "      <td>1</td>\n",
       "      <td>12.0</td>\n",
       "      <td>10.061406</td>\n",
       "    </tr>\n",
       "    <tr>\n",
       "      <td>2</td>\n",
       "      <td>12.5</td>\n",
       "      <td>10.062802</td>\n",
       "    </tr>\n",
       "    <tr>\n",
       "      <td>3</td>\n",
       "      <td>7.3</td>\n",
       "      <td>10.147191</td>\n",
       "    </tr>\n",
       "    <tr>\n",
       "      <td>4</td>\n",
       "      <td>5.7</td>\n",
       "      <td>10.063485</td>\n",
       "    </tr>\n",
       "  </tbody>\n",
       "</table>\n",
       "</div>"
      ],
      "text/plain": [
       "   actuals  predicted\n",
       "0      6.1  10.062809\n",
       "1     12.0  10.061406\n",
       "2     12.5  10.062802\n",
       "3      7.3  10.147191\n",
       "4      5.7  10.063485"
      ]
     },
     "execution_count": 22,
     "metadata": {},
     "output_type": "execute_result"
    }
   ],
   "source": [
    "_c.head()"
   ]
  },
  {
   "cell_type": "code",
   "execution_count": 23,
   "metadata": {},
   "outputs": [
    {
     "data": {
      "text/html": [
       "<div>\n",
       "<style scoped>\n",
       "    .dataframe tbody tr th:only-of-type {\n",
       "        vertical-align: middle;\n",
       "    }\n",
       "\n",
       "    .dataframe tbody tr th {\n",
       "        vertical-align: top;\n",
       "    }\n",
       "\n",
       "    .dataframe thead th {\n",
       "        text-align: right;\n",
       "    }\n",
       "</style>\n",
       "<table border=\"1\" class=\"dataframe\">\n",
       "  <thead>\n",
       "    <tr style=\"text-align: right;\">\n",
       "      <th></th>\n",
       "      <th>fare_amount</th>\n",
       "      <th>pickup_longitude</th>\n",
       "      <th>pickup_latitude</th>\n",
       "      <th>dropoff_longitude</th>\n",
       "      <th>dropoff_latitude</th>\n",
       "      <th>passenger_count</th>\n",
       "    </tr>\n",
       "  </thead>\n",
       "  <tbody>\n",
       "    <tr>\n",
       "      <td>count</td>\n",
       "      <td>97059.000000</td>\n",
       "      <td>97059.000000</td>\n",
       "      <td>97059.000000</td>\n",
       "      <td>97059.000000</td>\n",
       "      <td>97059.000000</td>\n",
       "      <td>97059.000000</td>\n",
       "    </tr>\n",
       "    <tr>\n",
       "      <td>mean</td>\n",
       "      <td>10.121116</td>\n",
       "      <td>-72.505701</td>\n",
       "      <td>39.920732</td>\n",
       "      <td>-72.501626</td>\n",
       "      <td>39.925708</td>\n",
       "      <td>1.671962</td>\n",
       "    </tr>\n",
       "    <tr>\n",
       "      <td>std</td>\n",
       "      <td>6.306290</td>\n",
       "      <td>10.671218</td>\n",
       "      <td>6.208676</td>\n",
       "      <td>10.438647</td>\n",
       "      <td>6.194640</td>\n",
       "      <td>1.299321</td>\n",
       "    </tr>\n",
       "    <tr>\n",
       "      <td>min</td>\n",
       "      <td>2.500000</td>\n",
       "      <td>-736.550000</td>\n",
       "      <td>-74.007670</td>\n",
       "      <td>-84.654241</td>\n",
       "      <td>-74.001140</td>\n",
       "      <td>0.000000</td>\n",
       "    </tr>\n",
       "    <tr>\n",
       "      <td>25%</td>\n",
       "      <td>6.000000</td>\n",
       "      <td>-73.992165</td>\n",
       "      <td>40.735877</td>\n",
       "      <td>-73.991252</td>\n",
       "      <td>40.734989</td>\n",
       "      <td>1.000000</td>\n",
       "    </tr>\n",
       "    <tr>\n",
       "      <td>50%</td>\n",
       "      <td>8.100000</td>\n",
       "      <td>-73.981987</td>\n",
       "      <td>40.753121</td>\n",
       "      <td>-73.980171</td>\n",
       "      <td>40.753565</td>\n",
       "      <td>1.000000</td>\n",
       "    </tr>\n",
       "    <tr>\n",
       "      <td>75%</td>\n",
       "      <td>12.100000</td>\n",
       "      <td>-73.967915</td>\n",
       "      <td>40.767382</td>\n",
       "      <td>-73.964247</td>\n",
       "      <td>40.768304</td>\n",
       "      <td>2.000000</td>\n",
       "    </tr>\n",
       "    <tr>\n",
       "      <td>max</td>\n",
       "      <td>38.900000</td>\n",
       "      <td>40.787575</td>\n",
       "      <td>401.083332</td>\n",
       "      <td>40.851027</td>\n",
       "      <td>404.616667</td>\n",
       "      <td>6.000000</td>\n",
       "    </tr>\n",
       "  </tbody>\n",
       "</table>\n",
       "</div>"
      ],
      "text/plain": [
       "        fare_amount  pickup_longitude  pickup_latitude  dropoff_longitude  \\\n",
       "count  97059.000000      97059.000000     97059.000000       97059.000000   \n",
       "mean      10.121116        -72.505701        39.920732         -72.501626   \n",
       "std        6.306290         10.671218         6.208676          10.438647   \n",
       "min        2.500000       -736.550000       -74.007670         -84.654241   \n",
       "25%        6.000000        -73.992165        40.735877         -73.991252   \n",
       "50%        8.100000        -73.981987        40.753121         -73.980171   \n",
       "75%       12.100000        -73.967915        40.767382         -73.964247   \n",
       "max       38.900000         40.787575       401.083332          40.851027   \n",
       "\n",
       "       dropoff_latitude  passenger_count  \n",
       "count      97059.000000     97059.000000  \n",
       "mean          39.925708         1.671962  \n",
       "std            6.194640         1.299321  \n",
       "min          -74.001140         0.000000  \n",
       "25%           40.734989         1.000000  \n",
       "50%           40.753565         1.000000  \n",
       "75%           40.768304         2.000000  \n",
       "max          404.616667         6.000000  "
      ]
     },
     "execution_count": 23,
     "metadata": {},
     "output_type": "execute_result"
    }
   ],
   "source": [
    "new_df.describe()"
   ]
  },
  {
   "cell_type": "code",
   "execution_count": 24,
   "metadata": {},
   "outputs": [
    {
     "name": "stdout",
     "output_type": "stream",
     "text": [
      "<class 'pandas.core.frame.DataFrame'>\n",
      "Int64Index: 97059 entries, 0 to 99999\n",
      "Data columns (total 8 columns):\n",
      "key                  97059 non-null object\n",
      "fare_amount          97059 non-null float64\n",
      "pickup_datetime      97059 non-null object\n",
      "pickup_longitude     97059 non-null float64\n",
      "pickup_latitude      97059 non-null float64\n",
      "dropoff_longitude    97059 non-null float64\n",
      "dropoff_latitude     97059 non-null float64\n",
      "passenger_count      97059 non-null int64\n",
      "dtypes: float64(5), int64(1), object(2)\n",
      "memory usage: 6.7+ MB\n"
     ]
    }
   ],
   "source": [
    "new_df.info()"
   ]
  },
  {
   "cell_type": "markdown",
   "metadata": {},
   "source": [
    "## take date and time into consideration"
   ]
  },
  {
   "cell_type": "code",
   "execution_count": 25,
   "metadata": {},
   "outputs": [],
   "source": [
    "new_df['_pickup_datetime'] = pd.to_datetime(new_df['pickup_datetime'])"
   ]
  },
  {
   "cell_type": "code",
   "execution_count": 26,
   "metadata": {},
   "outputs": [
    {
     "name": "stdout",
     "output_type": "stream",
     "text": [
      "<class 'pandas.core.frame.DataFrame'>\n",
      "Int64Index: 97059 entries, 0 to 99999\n",
      "Data columns (total 9 columns):\n",
      "key                  97059 non-null object\n",
      "fare_amount          97059 non-null float64\n",
      "pickup_datetime      97059 non-null object\n",
      "pickup_longitude     97059 non-null float64\n",
      "pickup_latitude      97059 non-null float64\n",
      "dropoff_longitude    97059 non-null float64\n",
      "dropoff_latitude     97059 non-null float64\n",
      "passenger_count      97059 non-null int64\n",
      "_pickup_datetime     97059 non-null datetime64[ns, UTC]\n",
      "dtypes: datetime64[ns, UTC](1), float64(5), int64(1), object(2)\n",
      "memory usage: 7.4+ MB\n"
     ]
    }
   ],
   "source": [
    "new_df.info()"
   ]
  },
  {
   "cell_type": "markdown",
   "metadata": {},
   "source": [
    "## extract interesting information from datetime"
   ]
  },
  {
   "cell_type": "code",
   "execution_count": 27,
   "metadata": {},
   "outputs": [],
   "source": [
    "new_df['_month'] = new_df._pickup_datetime.dt.month"
   ]
  },
  {
   "cell_type": "code",
   "execution_count": 28,
   "metadata": {},
   "outputs": [],
   "source": [
    "new_df['_day'] = new_df._pickup_datetime.dt.day"
   ]
  },
  {
   "cell_type": "code",
   "execution_count": 29,
   "metadata": {},
   "outputs": [],
   "source": [
    "new_df['_dayofweek'] = new_df._pickup_datetime.dt.dayofweek"
   ]
  },
  {
   "cell_type": "code",
   "execution_count": 30,
   "metadata": {},
   "outputs": [],
   "source": [
    "new_df['_hour'] = new_df._pickup_datetime.dt.hour"
   ]
  },
  {
   "cell_type": "markdown",
   "metadata": {},
   "source": [
    "## extract direction of travel"
   ]
  },
  {
   "cell_type": "code",
   "execution_count": 31,
   "metadata": {},
   "outputs": [],
   "source": [
    "new_df['_lon_diff'] = new_df['pickup_longitude'] - new_df['dropoff_longitude']\n",
    "new_df['_lat_diff'] = new_df['pickup_latitude'] - new_df['dropoff_latitude']"
   ]
  },
  {
   "cell_type": "code",
   "execution_count": 32,
   "metadata": {},
   "outputs": [
    {
     "name": "stdout",
     "output_type": "stream",
     "text": [
      "<class 'pandas.core.frame.DataFrame'>\n",
      "Int64Index: 97059 entries, 0 to 99999\n",
      "Data columns (total 15 columns):\n",
      "key                  97059 non-null object\n",
      "fare_amount          97059 non-null float64\n",
      "pickup_datetime      97059 non-null object\n",
      "pickup_longitude     97059 non-null float64\n",
      "pickup_latitude      97059 non-null float64\n",
      "dropoff_longitude    97059 non-null float64\n",
      "dropoff_latitude     97059 non-null float64\n",
      "passenger_count      97059 non-null int64\n",
      "_pickup_datetime     97059 non-null datetime64[ns, UTC]\n",
      "_month               97059 non-null int64\n",
      "_day                 97059 non-null int64\n",
      "_dayofweek           97059 non-null int64\n",
      "_hour                97059 non-null int64\n",
      "_lon_diff            97059 non-null float64\n",
      "_lat_diff            97059 non-null float64\n",
      "dtypes: datetime64[ns, UTC](1), float64(7), int64(5), object(2)\n",
      "memory usage: 11.8+ MB\n"
     ]
    }
   ],
   "source": [
    "new_df.info()"
   ]
  },
  {
   "cell_type": "markdown",
   "metadata": {},
   "source": [
    "# train our model again"
   ]
  },
  {
   "cell_type": "code",
   "execution_count": 33,
   "metadata": {},
   "outputs": [],
   "source": [
    "X = new_df[['pickup_longitude', 'pickup_latitude', 'dropoff_longitude', 'dropoff_latitude', 'passenger_count', '_month', '_day', '_dayofweek', '_hour', '_lon_diff', '_lat_diff']].values\n",
    "y = new_df[['fare_amount']].values\n",
    "X_train, X_test, y_train, y_test = train_test_split(X, y, test_size=0.1, random_state=1)"
   ]
  },
  {
   "cell_type": "code",
   "execution_count": 34,
   "metadata": {},
   "outputs": [
    {
     "name": "stdout",
     "output_type": "stream",
     "text": [
      "MSE: 39.23920125276473\n",
      "Score: 0.0011765574112372335\n"
     ]
    }
   ],
   "source": [
    "linear_model = LinearRegression()\n",
    "linear_model.fit(X_train, y_train)\n",
    "y_pred = linear_model.predict(X_test)\n",
    "print('MSE: {}'.format(mean_squared_error(y_test, y_pred)))\n",
    "print('Score: {}'.format(linear_model.score(X_test, y_test)))"
   ]
  },
  {
   "cell_type": "markdown",
   "metadata": {},
   "source": [
    "# try to visualize"
   ]
  },
  {
   "cell_type": "code",
   "execution_count": null,
   "metadata": {},
   "outputs": [],
   "source": [
    "import matplotlib.pyplot as plt\n",
    "import seaborn as sns\n",
    "%matplotlib inline"
   ]
  },
  {
   "cell_type": "code",
   "execution_count": null,
   "metadata": {},
   "outputs": [],
   "source": [
    "sns.scatterplot(x='_lon_diff', y='_lat_diff', data=new_df)"
   ]
  },
  {
   "cell_type": "code",
   "execution_count": null,
   "metadata": {},
   "outputs": [],
   "source": [
    "new_df = new_df[new_df._lon_diff > -100]"
   ]
  },
  {
   "cell_type": "code",
   "execution_count": null,
   "metadata": {},
   "outputs": [],
   "source": [
    "new_df = new_df[new_df._lat_diff < 50]"
   ]
  },
  {
   "cell_type": "code",
   "execution_count": null,
   "metadata": {},
   "outputs": [],
   "source": [
    "sns.scatterplot(x='_lon_diff', y='_lat_diff', data=new_df)"
   ]
  },
  {
   "cell_type": "code",
   "execution_count": null,
   "metadata": {},
   "outputs": [],
   "source": [
    "sns.scatterplot(x='_lon_diff', y='fare_amount', data=new_df)"
   ]
  },
  {
   "cell_type": "code",
   "execution_count": null,
   "metadata": {},
   "outputs": [],
   "source": [
    "sns.scatterplot(x='_lat_diff', y='fare_amount', data=new_df)"
   ]
  },
  {
   "cell_type": "code",
   "execution_count": null,
   "metadata": {},
   "outputs": [],
   "source": [
    "sns.distplot(df['fare_amount'])"
   ]
  },
  {
   "cell_type": "code",
   "execution_count": null,
   "metadata": {},
   "outputs": [],
   "source": [
    "sns.boxplot(df['fare_amount'])"
   ]
  },
  {
   "cell_type": "code",
   "execution_count": null,
   "metadata": {},
   "outputs": [],
   "source": [
    "sns.catplot(y='fare_amount', x='_month', kind='box', data=new_df)"
   ]
  },
  {
   "cell_type": "code",
   "execution_count": null,
   "metadata": {},
   "outputs": [],
   "source": [
    "sns.catplot(y='fare_amount', x='_dayofweek', kind='box', data=new_df)"
   ]
  },
  {
   "cell_type": "code",
   "execution_count": null,
   "metadata": {},
   "outputs": [],
   "source": [
    "sns.catplot(y='fare_amount', x='_hour', kind='box', data=new_df)"
   ]
  },
  {
   "cell_type": "code",
   "execution_count": null,
   "metadata": {},
   "outputs": [],
   "source": [
    "sns.countplot(x='_hour', data=new_df)"
   ]
  },
  {
   "cell_type": "code",
   "execution_count": null,
   "metadata": {},
   "outputs": [],
   "source": [
    "new_df.info()"
   ]
  },
  {
   "cell_type": "code",
   "execution_count": null,
   "metadata": {},
   "outputs": [],
   "source": [
    "sns.countplot(x='_month', data=new_df)"
   ]
  },
  {
   "cell_type": "code",
   "execution_count": null,
   "metadata": {},
   "outputs": [],
   "source": [
    "new_df.head()"
   ]
  },
  {
   "cell_type": "markdown",
   "metadata": {},
   "source": [
    "# convert all categorical variables"
   ]
  },
  {
   "cell_type": "code",
   "execution_count": 35,
   "metadata": {},
   "outputs": [],
   "source": [
    "month_df = pd.get_dummies(new_df['_month'], prefix='_month', drop_first=True)"
   ]
  },
  {
   "cell_type": "code",
   "execution_count": 36,
   "metadata": {},
   "outputs": [],
   "source": [
    "new_df = pd.concat([new_df, month_df], axis=1)"
   ]
  },
  {
   "cell_type": "code",
   "execution_count": 37,
   "metadata": {},
   "outputs": [
    {
     "name": "stdout",
     "output_type": "stream",
     "text": [
      "<class 'pandas.core.frame.DataFrame'>\n",
      "Int64Index: 97059 entries, 0 to 99999\n",
      "Data columns (total 26 columns):\n",
      "key                  97059 non-null object\n",
      "fare_amount          97059 non-null float64\n",
      "pickup_datetime      97059 non-null object\n",
      "pickup_longitude     97059 non-null float64\n",
      "pickup_latitude      97059 non-null float64\n",
      "dropoff_longitude    97059 non-null float64\n",
      "dropoff_latitude     97059 non-null float64\n",
      "passenger_count      97059 non-null int64\n",
      "_pickup_datetime     97059 non-null datetime64[ns, UTC]\n",
      "_month               97059 non-null int64\n",
      "_day                 97059 non-null int64\n",
      "_dayofweek           97059 non-null int64\n",
      "_hour                97059 non-null int64\n",
      "_lon_diff            97059 non-null float64\n",
      "_lat_diff            97059 non-null float64\n",
      "_month_2             97059 non-null uint8\n",
      "_month_3             97059 non-null uint8\n",
      "_month_4             97059 non-null uint8\n",
      "_month_5             97059 non-null uint8\n",
      "_month_6             97059 non-null uint8\n",
      "_month_7             97059 non-null uint8\n",
      "_month_8             97059 non-null uint8\n",
      "_month_9             97059 non-null uint8\n",
      "_month_10            97059 non-null uint8\n",
      "_month_11            97059 non-null uint8\n",
      "_month_12            97059 non-null uint8\n",
      "dtypes: datetime64[ns, UTC](1), float64(7), int64(5), object(2), uint8(11)\n",
      "memory usage: 12.9+ MB\n"
     ]
    }
   ],
   "source": [
    "new_df.info()"
   ]
  },
  {
   "cell_type": "code",
   "execution_count": 38,
   "metadata": {},
   "outputs": [
    {
     "data": {
      "text/html": [
       "<div>\n",
       "<style scoped>\n",
       "    .dataframe tbody tr th:only-of-type {\n",
       "        vertical-align: middle;\n",
       "    }\n",
       "\n",
       "    .dataframe tbody tr th {\n",
       "        vertical-align: top;\n",
       "    }\n",
       "\n",
       "    .dataframe thead th {\n",
       "        text-align: right;\n",
       "    }\n",
       "</style>\n",
       "<table border=\"1\" class=\"dataframe\">\n",
       "  <thead>\n",
       "    <tr style=\"text-align: right;\">\n",
       "      <th></th>\n",
       "      <th>key</th>\n",
       "      <th>fare_amount</th>\n",
       "      <th>pickup_datetime</th>\n",
       "      <th>pickup_longitude</th>\n",
       "      <th>pickup_latitude</th>\n",
       "      <th>dropoff_longitude</th>\n",
       "      <th>dropoff_latitude</th>\n",
       "      <th>passenger_count</th>\n",
       "      <th>_pickup_datetime</th>\n",
       "      <th>_month</th>\n",
       "      <th>...</th>\n",
       "      <th>_month_3</th>\n",
       "      <th>_month_4</th>\n",
       "      <th>_month_5</th>\n",
       "      <th>_month_6</th>\n",
       "      <th>_month_7</th>\n",
       "      <th>_month_8</th>\n",
       "      <th>_month_9</th>\n",
       "      <th>_month_10</th>\n",
       "      <th>_month_11</th>\n",
       "      <th>_month_12</th>\n",
       "    </tr>\n",
       "  </thead>\n",
       "  <tbody>\n",
       "    <tr>\n",
       "      <td>0</td>\n",
       "      <td>2009-06-15 17:26:21.0000001</td>\n",
       "      <td>4.5</td>\n",
       "      <td>2009-06-15 17:26:21 UTC</td>\n",
       "      <td>-73.844311</td>\n",
       "      <td>40.721319</td>\n",
       "      <td>-73.841610</td>\n",
       "      <td>40.712278</td>\n",
       "      <td>1</td>\n",
       "      <td>2009-06-15 17:26:21+00:00</td>\n",
       "      <td>6</td>\n",
       "      <td>...</td>\n",
       "      <td>0</td>\n",
       "      <td>0</td>\n",
       "      <td>0</td>\n",
       "      <td>1</td>\n",
       "      <td>0</td>\n",
       "      <td>0</td>\n",
       "      <td>0</td>\n",
       "      <td>0</td>\n",
       "      <td>0</td>\n",
       "      <td>0</td>\n",
       "    </tr>\n",
       "    <tr>\n",
       "      <td>1</td>\n",
       "      <td>2010-01-05 16:52:16.0000002</td>\n",
       "      <td>16.9</td>\n",
       "      <td>2010-01-05 16:52:16 UTC</td>\n",
       "      <td>-74.016048</td>\n",
       "      <td>40.711303</td>\n",
       "      <td>-73.979268</td>\n",
       "      <td>40.782004</td>\n",
       "      <td>1</td>\n",
       "      <td>2010-01-05 16:52:16+00:00</td>\n",
       "      <td>1</td>\n",
       "      <td>...</td>\n",
       "      <td>0</td>\n",
       "      <td>0</td>\n",
       "      <td>0</td>\n",
       "      <td>0</td>\n",
       "      <td>0</td>\n",
       "      <td>0</td>\n",
       "      <td>0</td>\n",
       "      <td>0</td>\n",
       "      <td>0</td>\n",
       "      <td>0</td>\n",
       "    </tr>\n",
       "    <tr>\n",
       "      <td>2</td>\n",
       "      <td>2011-08-18 00:35:00.00000049</td>\n",
       "      <td>5.7</td>\n",
       "      <td>2011-08-18 00:35:00 UTC</td>\n",
       "      <td>-73.982738</td>\n",
       "      <td>40.761270</td>\n",
       "      <td>-73.991242</td>\n",
       "      <td>40.750562</td>\n",
       "      <td>2</td>\n",
       "      <td>2011-08-18 00:35:00+00:00</td>\n",
       "      <td>8</td>\n",
       "      <td>...</td>\n",
       "      <td>0</td>\n",
       "      <td>0</td>\n",
       "      <td>0</td>\n",
       "      <td>0</td>\n",
       "      <td>0</td>\n",
       "      <td>1</td>\n",
       "      <td>0</td>\n",
       "      <td>0</td>\n",
       "      <td>0</td>\n",
       "      <td>0</td>\n",
       "    </tr>\n",
       "    <tr>\n",
       "      <td>3</td>\n",
       "      <td>2012-04-21 04:30:42.0000001</td>\n",
       "      <td>7.7</td>\n",
       "      <td>2012-04-21 04:30:42 UTC</td>\n",
       "      <td>-73.987130</td>\n",
       "      <td>40.733143</td>\n",
       "      <td>-73.991567</td>\n",
       "      <td>40.758092</td>\n",
       "      <td>1</td>\n",
       "      <td>2012-04-21 04:30:42+00:00</td>\n",
       "      <td>4</td>\n",
       "      <td>...</td>\n",
       "      <td>0</td>\n",
       "      <td>1</td>\n",
       "      <td>0</td>\n",
       "      <td>0</td>\n",
       "      <td>0</td>\n",
       "      <td>0</td>\n",
       "      <td>0</td>\n",
       "      <td>0</td>\n",
       "      <td>0</td>\n",
       "      <td>0</td>\n",
       "    </tr>\n",
       "    <tr>\n",
       "      <td>4</td>\n",
       "      <td>2010-03-09 07:51:00.000000135</td>\n",
       "      <td>5.3</td>\n",
       "      <td>2010-03-09 07:51:00 UTC</td>\n",
       "      <td>-73.968095</td>\n",
       "      <td>40.768008</td>\n",
       "      <td>-73.956655</td>\n",
       "      <td>40.783762</td>\n",
       "      <td>1</td>\n",
       "      <td>2010-03-09 07:51:00+00:00</td>\n",
       "      <td>3</td>\n",
       "      <td>...</td>\n",
       "      <td>1</td>\n",
       "      <td>0</td>\n",
       "      <td>0</td>\n",
       "      <td>0</td>\n",
       "      <td>0</td>\n",
       "      <td>0</td>\n",
       "      <td>0</td>\n",
       "      <td>0</td>\n",
       "      <td>0</td>\n",
       "      <td>0</td>\n",
       "    </tr>\n",
       "  </tbody>\n",
       "</table>\n",
       "<p>5 rows × 26 columns</p>\n",
       "</div>"
      ],
      "text/plain": [
       "                             key  fare_amount          pickup_datetime  \\\n",
       "0    2009-06-15 17:26:21.0000001          4.5  2009-06-15 17:26:21 UTC   \n",
       "1    2010-01-05 16:52:16.0000002         16.9  2010-01-05 16:52:16 UTC   \n",
       "2   2011-08-18 00:35:00.00000049          5.7  2011-08-18 00:35:00 UTC   \n",
       "3    2012-04-21 04:30:42.0000001          7.7  2012-04-21 04:30:42 UTC   \n",
       "4  2010-03-09 07:51:00.000000135          5.3  2010-03-09 07:51:00 UTC   \n",
       "\n",
       "   pickup_longitude  pickup_latitude  dropoff_longitude  dropoff_latitude  \\\n",
       "0        -73.844311        40.721319         -73.841610         40.712278   \n",
       "1        -74.016048        40.711303         -73.979268         40.782004   \n",
       "2        -73.982738        40.761270         -73.991242         40.750562   \n",
       "3        -73.987130        40.733143         -73.991567         40.758092   \n",
       "4        -73.968095        40.768008         -73.956655         40.783762   \n",
       "\n",
       "   passenger_count          _pickup_datetime  _month  ...  _month_3  _month_4  \\\n",
       "0                1 2009-06-15 17:26:21+00:00       6  ...         0         0   \n",
       "1                1 2010-01-05 16:52:16+00:00       1  ...         0         0   \n",
       "2                2 2011-08-18 00:35:00+00:00       8  ...         0         0   \n",
       "3                1 2012-04-21 04:30:42+00:00       4  ...         0         1   \n",
       "4                1 2010-03-09 07:51:00+00:00       3  ...         1         0   \n",
       "\n",
       "   _month_5  _month_6  _month_7  _month_8  _month_9  _month_10  _month_11  \\\n",
       "0         0         1         0         0         0          0          0   \n",
       "1         0         0         0         0         0          0          0   \n",
       "2         0         0         0         1         0          0          0   \n",
       "3         0         0         0         0         0          0          0   \n",
       "4         0         0         0         0         0          0          0   \n",
       "\n",
       "   _month_12  \n",
       "0          0  \n",
       "1          0  \n",
       "2          0  \n",
       "3          0  \n",
       "4          0  \n",
       "\n",
       "[5 rows x 26 columns]"
      ]
     },
     "execution_count": 38,
     "metadata": {},
     "output_type": "execute_result"
    }
   ],
   "source": [
    "new_df.head()"
   ]
  },
  {
   "cell_type": "code",
   "execution_count": 39,
   "metadata": {},
   "outputs": [
    {
     "name": "stdout",
     "output_type": "stream",
     "text": [
      "MSE: 39.195163605618085\n",
      "Score: 0.0022975240191754898\n"
     ]
    }
   ],
   "source": [
    "X = new_df.drop(['fare_amount', 'key', 'pickup_datetime', '_pickup_datetime'], axis=1).values\n",
    "y = new_df[['fare_amount']].values\n",
    "X_train, X_test, y_train, y_test = train_test_split(X, y, test_size=0.1, random_state=1)\n",
    "\n",
    "linear_model = LinearRegression()\n",
    "linear_model.fit(X_train, y_train)\n",
    "y_pred = linear_model.predict(X_test)\n",
    "print('MSE: {}'.format(mean_squared_error(y_test, y_pred)))\n",
    "print('Score: {}'.format(linear_model.score(X_test, y_test)))"
   ]
  },
  {
   "cell_type": "markdown",
   "metadata": {},
   "source": [
    "# repeat for _day"
   ]
  },
  {
   "cell_type": "code",
   "execution_count": 40,
   "metadata": {},
   "outputs": [],
   "source": [
    "day_df = pd.get_dummies(new_df['_day'], prefix='_day', drop_first=True)"
   ]
  },
  {
   "cell_type": "markdown",
   "metadata": {},
   "source": [
    "# repeat for _dayofweek"
   ]
  },
  {
   "cell_type": "code",
   "execution_count": 41,
   "metadata": {},
   "outputs": [],
   "source": [
    "dow_df = pd.get_dummies(new_df['_dayofweek'], prefix='_dayofweek', drop_first=True)"
   ]
  },
  {
   "cell_type": "markdown",
   "metadata": {},
   "source": [
    "# repeat for _hour"
   ]
  },
  {
   "cell_type": "code",
   "execution_count": 42,
   "metadata": {},
   "outputs": [],
   "source": [
    "hour_df = pd.get_dummies(new_df['_hour'], prefix='_hour', drop_first=True)"
   ]
  },
  {
   "cell_type": "code",
   "execution_count": 43,
   "metadata": {},
   "outputs": [],
   "source": [
    "new_df = pd.concat([new_df, day_df, dow_df, hour_df], axis=1)"
   ]
  },
  {
   "cell_type": "code",
   "execution_count": null,
   "metadata": {},
   "outputs": [],
   "source": []
  },
  {
   "cell_type": "code",
   "execution_count": 44,
   "metadata": {},
   "outputs": [
    {
     "name": "stdout",
     "output_type": "stream",
     "text": [
      "<class 'pandas.core.frame.DataFrame'>\n",
      "Int64Index: 97059 entries, 0 to 99999\n",
      "Data columns (total 85 columns):\n",
      "key                  97059 non-null object\n",
      "fare_amount          97059 non-null float64\n",
      "pickup_datetime      97059 non-null object\n",
      "pickup_longitude     97059 non-null float64\n",
      "pickup_latitude      97059 non-null float64\n",
      "dropoff_longitude    97059 non-null float64\n",
      "dropoff_latitude     97059 non-null float64\n",
      "passenger_count      97059 non-null int64\n",
      "_pickup_datetime     97059 non-null datetime64[ns, UTC]\n",
      "_month               97059 non-null int64\n",
      "_day                 97059 non-null int64\n",
      "_dayofweek           97059 non-null int64\n",
      "_hour                97059 non-null int64\n",
      "_lon_diff            97059 non-null float64\n",
      "_lat_diff            97059 non-null float64\n",
      "_month_2             97059 non-null uint8\n",
      "_month_3             97059 non-null uint8\n",
      "_month_4             97059 non-null uint8\n",
      "_month_5             97059 non-null uint8\n",
      "_month_6             97059 non-null uint8\n",
      "_month_7             97059 non-null uint8\n",
      "_month_8             97059 non-null uint8\n",
      "_month_9             97059 non-null uint8\n",
      "_month_10            97059 non-null uint8\n",
      "_month_11            97059 non-null uint8\n",
      "_month_12            97059 non-null uint8\n",
      "_day_2               97059 non-null uint8\n",
      "_day_3               97059 non-null uint8\n",
      "_day_4               97059 non-null uint8\n",
      "_day_5               97059 non-null uint8\n",
      "_day_6               97059 non-null uint8\n",
      "_day_7               97059 non-null uint8\n",
      "_day_8               97059 non-null uint8\n",
      "_day_9               97059 non-null uint8\n",
      "_day_10              97059 non-null uint8\n",
      "_day_11              97059 non-null uint8\n",
      "_day_12              97059 non-null uint8\n",
      "_day_13              97059 non-null uint8\n",
      "_day_14              97059 non-null uint8\n",
      "_day_15              97059 non-null uint8\n",
      "_day_16              97059 non-null uint8\n",
      "_day_17              97059 non-null uint8\n",
      "_day_18              97059 non-null uint8\n",
      "_day_19              97059 non-null uint8\n",
      "_day_20              97059 non-null uint8\n",
      "_day_21              97059 non-null uint8\n",
      "_day_22              97059 non-null uint8\n",
      "_day_23              97059 non-null uint8\n",
      "_day_24              97059 non-null uint8\n",
      "_day_25              97059 non-null uint8\n",
      "_day_26              97059 non-null uint8\n",
      "_day_27              97059 non-null uint8\n",
      "_day_28              97059 non-null uint8\n",
      "_day_29              97059 non-null uint8\n",
      "_day_30              97059 non-null uint8\n",
      "_day_31              97059 non-null uint8\n",
      "_dayofweek_1         97059 non-null uint8\n",
      "_dayofweek_2         97059 non-null uint8\n",
      "_dayofweek_3         97059 non-null uint8\n",
      "_dayofweek_4         97059 non-null uint8\n",
      "_dayofweek_5         97059 non-null uint8\n",
      "_dayofweek_6         97059 non-null uint8\n",
      "_hour_1              97059 non-null uint8\n",
      "_hour_2              97059 non-null uint8\n",
      "_hour_3              97059 non-null uint8\n",
      "_hour_4              97059 non-null uint8\n",
      "_hour_5              97059 non-null uint8\n",
      "_hour_6              97059 non-null uint8\n",
      "_hour_7              97059 non-null uint8\n",
      "_hour_8              97059 non-null uint8\n",
      "_hour_9              97059 non-null uint8\n",
      "_hour_10             97059 non-null uint8\n",
      "_hour_11             97059 non-null uint8\n",
      "_hour_12             97059 non-null uint8\n",
      "_hour_13             97059 non-null uint8\n",
      "_hour_14             97059 non-null uint8\n",
      "_hour_15             97059 non-null uint8\n",
      "_hour_16             97059 non-null uint8\n",
      "_hour_17             97059 non-null uint8\n",
      "_hour_18             97059 non-null uint8\n",
      "_hour_19             97059 non-null uint8\n",
      "_hour_20             97059 non-null uint8\n",
      "_hour_21             97059 non-null uint8\n",
      "_hour_22             97059 non-null uint8\n",
      "_hour_23             97059 non-null uint8\n",
      "dtypes: datetime64[ns, UTC](1), float64(7), int64(5), object(2), uint8(70)\n",
      "memory usage: 18.3+ MB\n"
     ]
    }
   ],
   "source": [
    "new_df.info()"
   ]
  },
  {
   "cell_type": "markdown",
   "metadata": {},
   "source": [
    "# train a model again"
   ]
  },
  {
   "cell_type": "code",
   "execution_count": 45,
   "metadata": {},
   "outputs": [
    {
     "name": "stdout",
     "output_type": "stream",
     "text": [
      "MSE: 39.02413080565588\n",
      "Score: 0.006651118501219467\n"
     ]
    }
   ],
   "source": [
    "X = new_df.drop(['fare_amount', 'key', 'pickup_datetime', '_pickup_datetime'], axis=1).values\n",
    "y = new_df[['fare_amount']].values\n",
    "X_train, X_test, y_train, y_test = train_test_split(X, y, test_size=0.1, random_state=1)\n",
    "\n",
    "linear_model = LinearRegression()\n",
    "linear_model.fit(X_train, y_train)\n",
    "y_pred = linear_model.predict(X_test)\n",
    "print('MSE: {}'.format(mean_squared_error(y_test, y_pred)))\n",
    "print('Score: {}'.format(linear_model.score(X_test, y_test)))"
   ]
  },
  {
   "cell_type": "markdown",
   "metadata": {},
   "source": [
    "* we have more data but the model isn't improving because it's too simple. But, we don't want to try and fit a polynomial feature, so let's try a deep neural network"
   ]
  },
  {
   "cell_type": "code",
   "execution_count": 46,
   "metadata": {},
   "outputs": [],
   "source": [
    "import tensorflow as tf\n",
    "import numpy as np"
   ]
  },
  {
   "cell_type": "code",
   "execution_count": 59,
   "metadata": {},
   "outputs": [],
   "source": [
    "feature_columns = []\n",
    "\n",
    "# numeric columns\n",
    "pickup_lon = tf.feature_column.numeric_column('pickup_longitude', dtype=tf.dtypes.float64)\n",
    "dropoff_lon = tf.feature_column.numeric_column('dropoff_longitude', dtype=tf.dtypes.float64)\n",
    "pickup_lat = tf.feature_column.numeric_column('pickup_latitude', dtype=tf.dtypes.float64)\n",
    "dropoff_lat = tf.feature_column.numeric_column('dropoff_latitude', dtype=tf.dtypes.float64)\n",
    "\n",
    "lat_diff = tf.feature_column.numeric_column('_lat_diff', dtype=tf.dtypes.float64)\n",
    "lon_diff = tf.feature_column.numeric_column('_lon_diff', dtype=tf.dtypes.float64)\n",
    "\n",
    "# categorical columns\n",
    "month = tf.feature_column.categorical_column_with_identity('_month', num_buckets=13)\n",
    "day = tf.feature_column.categorical_column_with_identity('_day', num_buckets=32)\n",
    "dayofweek = tf.feature_column.categorical_column_with_identity('_dayofweek', num_buckets=7)\n",
    "hour = tf.feature_column.categorical_column_with_identity('_hour', num_buckets=24)\n",
    "\n",
    "# bucketized columns\n",
    "b_pickup_lat = tf.feature_column.bucketized_column(pickup_lat, np.linspace(38.0, 42.0, 60 * 4).tolist())\n",
    "b_pickup_lon = tf.feature_column.bucketized_column(pickup_lon, np.linspace(-76.0, -72.0, 60 * 4).tolist())\n",
    "b_dropoff_lat = tf.feature_column.bucketized_column(dropoff_lat, np.linspace(38.0, 42.0, 60 * 4).tolist())\n",
    "b_dropoff_lon = tf.feature_column.bucketized_column(dropoff_lon, np.linspace(-76.0, -72.0, 60 * 4).tolist())\n",
    "\n",
    "# crossed columns\n",
    "dayofweek_x_hour = tf.feature_column.crossed_column([dayofweek, hour], 7 * 24)\n",
    "b_p_lat_x_b_p_lon = tf.feature_column.crossed_column([b_pickup_lat, b_pickup_lon], (60 * 4) ** 2)\n",
    "b_d_lat_x_b_d_lon = tf.feature_column.crossed_column([b_dropoff_lat, b_dropoff_lon], (60 * 4) ** 2)\n",
    "b_pickup_x_b_dropoff = tf.feature_column.crossed_column([b_p_lat_x_b_p_lon, b_d_lat_x_b_d_lon], (60 * 4) ** 4)\n",
    "\n",
    "\n",
    "\n",
    "feature_columns = [pickup_lon, dropoff_lon, pickup_lat, dropoff_lat, month, day, dayofweek, hour]\n",
    "dense_columns = [b_pickup_lat, b_pickup_lon, b_dropoff_lat, b_dropoff_lon]\n",
    "for i in [month, day, dayofweek, hour, dayofweek_x_hour, b_p_lat_x_b_p_lon, b_d_lat_x_b_d_lon]:\n",
    "    dense_columns.append(tf.feature_column.embedding_column(i, 64))"
   ]
  },
  {
   "cell_type": "code",
   "execution_count": 60,
   "metadata": {},
   "outputs": [],
   "source": [
    "# we need a new way of getting data into the model\n",
    "def df_to_dataset(df, columns, shuffle=True, batch_size=64):\n",
    "  df = df.copy()\n",
    "  labels = df.pop('fare_amount')\n",
    "  features_df = df[columns]\n",
    "  ds = tf.data.Dataset.from_tensor_slices( (dict(features_df), labels) )\n",
    "  if shuffle:\n",
    "    ds = ds.shuffle(buffer_size=len(df))\n",
    "  ds = ds.batch(batch_size)\n",
    "  return ds"
   ]
  },
  {
   "cell_type": "code",
   "execution_count": 61,
   "metadata": {},
   "outputs": [],
   "source": [
    "columns = ['pickup_longitude', 'dropoff_longitude', 'pickup_latitude', 'dropoff_latitude', '_lat_diff', '_lon_diff', '_month', '_day', '_dayofweek', '_hour']"
   ]
  },
  {
   "cell_type": "code",
   "execution_count": 63,
   "metadata": {},
   "outputs": [],
   "source": [
    "# extract train and test sets\n",
    "train = new_df.sample(frac=0.9,random_state=0)\n",
    "val = new_df.drop(train.index)"
   ]
  },
  {
   "cell_type": "code",
   "execution_count": 64,
   "metadata": {},
   "outputs": [],
   "source": [
    "train_ds = df_to_dataset(train, columns)\n",
    "val_ds = df_to_dataset(val, columns)"
   ]
  },
  {
   "cell_type": "code",
   "execution_count": 65,
   "metadata": {},
   "outputs": [
    {
     "data": {
      "text/html": [
       "<div>\n",
       "<style scoped>\n",
       "    .dataframe tbody tr th:only-of-type {\n",
       "        vertical-align: middle;\n",
       "    }\n",
       "\n",
       "    .dataframe tbody tr th {\n",
       "        vertical-align: top;\n",
       "    }\n",
       "\n",
       "    .dataframe thead th {\n",
       "        text-align: right;\n",
       "    }\n",
       "</style>\n",
       "<table border=\"1\" class=\"dataframe\">\n",
       "  <thead>\n",
       "    <tr style=\"text-align: right;\">\n",
       "      <th></th>\n",
       "      <th>pickup_longitude</th>\n",
       "      <th>dropoff_longitude</th>\n",
       "      <th>pickup_latitude</th>\n",
       "      <th>dropoff_latitude</th>\n",
       "      <th>_lat_diff</th>\n",
       "      <th>_lon_diff</th>\n",
       "      <th>_month</th>\n",
       "      <th>_day</th>\n",
       "      <th>_dayofweek</th>\n",
       "      <th>_hour</th>\n",
       "    </tr>\n",
       "  </thead>\n",
       "  <tbody>\n",
       "    <tr>\n",
       "      <td>count</td>\n",
       "      <td>87353.000000</td>\n",
       "      <td>87353.000000</td>\n",
       "      <td>87353.000000</td>\n",
       "      <td>87353.000000</td>\n",
       "      <td>87353.000000</td>\n",
       "      <td>87353.000000</td>\n",
       "      <td>87353.000000</td>\n",
       "      <td>87353.000000</td>\n",
       "      <td>87353.000000</td>\n",
       "      <td>87353.000000</td>\n",
       "    </tr>\n",
       "    <tr>\n",
       "      <td>mean</td>\n",
       "      <td>-72.523106</td>\n",
       "      <td>-72.519660</td>\n",
       "      <td>39.929770</td>\n",
       "      <td>39.935285</td>\n",
       "      <td>-0.005515</td>\n",
       "      <td>-0.003445</td>\n",
       "      <td>6.243083</td>\n",
       "      <td>15.651117</td>\n",
       "      <td>3.041121</td>\n",
       "      <td>13.508431</td>\n",
       "    </tr>\n",
       "    <tr>\n",
       "      <td>std</td>\n",
       "      <td>10.643096</td>\n",
       "      <td>10.380706</td>\n",
       "      <td>6.204873</td>\n",
       "      <td>6.188968</td>\n",
       "      <td>2.341799</td>\n",
       "      <td>3.716294</td>\n",
       "      <td>3.449162</td>\n",
       "      <td>8.679536</td>\n",
       "      <td>1.948656</td>\n",
       "      <td>6.521724</td>\n",
       "    </tr>\n",
       "    <tr>\n",
       "      <td>min</td>\n",
       "      <td>-736.550000</td>\n",
       "      <td>-84.654241</td>\n",
       "      <td>-74.007670</td>\n",
       "      <td>-74.001140</td>\n",
       "      <td>-363.934787</td>\n",
       "      <td>-662.561258</td>\n",
       "      <td>1.000000</td>\n",
       "      <td>1.000000</td>\n",
       "      <td>0.000000</td>\n",
       "      <td>0.000000</td>\n",
       "    </tr>\n",
       "    <tr>\n",
       "      <td>25%</td>\n",
       "      <td>-73.992177</td>\n",
       "      <td>-73.991257</td>\n",
       "      <td>40.735900</td>\n",
       "      <td>40.734955</td>\n",
       "      <td>-0.013707</td>\n",
       "      <td>-0.013531</td>\n",
       "      <td>3.000000</td>\n",
       "      <td>8.000000</td>\n",
       "      <td>1.000000</td>\n",
       "      <td>9.000000</td>\n",
       "    </tr>\n",
       "    <tr>\n",
       "      <td>50%</td>\n",
       "      <td>-73.981998</td>\n",
       "      <td>-73.980167</td>\n",
       "      <td>40.753122</td>\n",
       "      <td>40.753553</td>\n",
       "      <td>0.000000</td>\n",
       "      <td>-0.000734</td>\n",
       "      <td>6.000000</td>\n",
       "      <td>16.000000</td>\n",
       "      <td>3.000000</td>\n",
       "      <td>14.000000</td>\n",
       "    </tr>\n",
       "    <tr>\n",
       "      <td>75%</td>\n",
       "      <td>-73.967913</td>\n",
       "      <td>-73.964292</td>\n",
       "      <td>40.767385</td>\n",
       "      <td>40.768300</td>\n",
       "      <td>0.013325</td>\n",
       "      <td>0.010717</td>\n",
       "      <td>9.000000</td>\n",
       "      <td>23.000000</td>\n",
       "      <td>5.000000</td>\n",
       "      <td>19.000000</td>\n",
       "    </tr>\n",
       "    <tr>\n",
       "      <td>max</td>\n",
       "      <td>40.787575</td>\n",
       "      <td>40.851027</td>\n",
       "      <td>401.083332</td>\n",
       "      <td>404.616667</td>\n",
       "      <td>360.304405</td>\n",
       "      <td>74.014015</td>\n",
       "      <td>12.000000</td>\n",
       "      <td>31.000000</td>\n",
       "      <td>6.000000</td>\n",
       "      <td>23.000000</td>\n",
       "    </tr>\n",
       "  </tbody>\n",
       "</table>\n",
       "</div>"
      ],
      "text/plain": [
       "       pickup_longitude  dropoff_longitude  pickup_latitude  dropoff_latitude  \\\n",
       "count      87353.000000       87353.000000     87353.000000      87353.000000   \n",
       "mean         -72.523106         -72.519660        39.929770         39.935285   \n",
       "std           10.643096          10.380706         6.204873          6.188968   \n",
       "min         -736.550000         -84.654241       -74.007670        -74.001140   \n",
       "25%          -73.992177         -73.991257        40.735900         40.734955   \n",
       "50%          -73.981998         -73.980167        40.753122         40.753553   \n",
       "75%          -73.967913         -73.964292        40.767385         40.768300   \n",
       "max           40.787575          40.851027       401.083332        404.616667   \n",
       "\n",
       "          _lat_diff     _lon_diff        _month          _day    _dayofweek  \\\n",
       "count  87353.000000  87353.000000  87353.000000  87353.000000  87353.000000   \n",
       "mean      -0.005515     -0.003445      6.243083     15.651117      3.041121   \n",
       "std        2.341799      3.716294      3.449162      8.679536      1.948656   \n",
       "min     -363.934787   -662.561258      1.000000      1.000000      0.000000   \n",
       "25%       -0.013707     -0.013531      3.000000      8.000000      1.000000   \n",
       "50%        0.000000     -0.000734      6.000000     16.000000      3.000000   \n",
       "75%        0.013325      0.010717      9.000000     23.000000      5.000000   \n",
       "max      360.304405     74.014015     12.000000     31.000000      6.000000   \n",
       "\n",
       "              _hour  \n",
       "count  87353.000000  \n",
       "mean      13.508431  \n",
       "std        6.521724  \n",
       "min        0.000000  \n",
       "25%        9.000000  \n",
       "50%       14.000000  \n",
       "75%       19.000000  \n",
       "max       23.000000  "
      ]
     },
     "execution_count": 65,
     "metadata": {},
     "output_type": "execute_result"
    }
   ],
   "source": [
    "train[columns].describe()"
   ]
  },
  {
   "cell_type": "markdown",
   "metadata": {},
   "source": [
    "# Train a DNN"
   ]
  },
  {
   "cell_type": "code",
   "execution_count": 47,
   "metadata": {},
   "outputs": [],
   "source": [
    "from tensorflow import keras"
   ]
  },
  {
   "cell_type": "code",
   "execution_count": 48,
   "metadata": {},
   "outputs": [
    {
     "name": "stdout",
     "output_type": "stream",
     "text": [
      "<class 'pandas.core.frame.DataFrame'>\n",
      "Int64Index: 97059 entries, 0 to 99999\n",
      "Data columns (total 85 columns):\n",
      "key                  97059 non-null object\n",
      "fare_amount          97059 non-null float64\n",
      "pickup_datetime      97059 non-null object\n",
      "pickup_longitude     97059 non-null float64\n",
      "pickup_latitude      97059 non-null float64\n",
      "dropoff_longitude    97059 non-null float64\n",
      "dropoff_latitude     97059 non-null float64\n",
      "passenger_count      97059 non-null int64\n",
      "_pickup_datetime     97059 non-null datetime64[ns, UTC]\n",
      "_month               97059 non-null int64\n",
      "_day                 97059 non-null int64\n",
      "_dayofweek           97059 non-null int64\n",
      "_hour                97059 non-null int64\n",
      "_lon_diff            97059 non-null float64\n",
      "_lat_diff            97059 non-null float64\n",
      "_month_2             97059 non-null uint8\n",
      "_month_3             97059 non-null uint8\n",
      "_month_4             97059 non-null uint8\n",
      "_month_5             97059 non-null uint8\n",
      "_month_6             97059 non-null uint8\n",
      "_month_7             97059 non-null uint8\n",
      "_month_8             97059 non-null uint8\n",
      "_month_9             97059 non-null uint8\n",
      "_month_10            97059 non-null uint8\n",
      "_month_11            97059 non-null uint8\n",
      "_month_12            97059 non-null uint8\n",
      "_day_2               97059 non-null uint8\n",
      "_day_3               97059 non-null uint8\n",
      "_day_4               97059 non-null uint8\n",
      "_day_5               97059 non-null uint8\n",
      "_day_6               97059 non-null uint8\n",
      "_day_7               97059 non-null uint8\n",
      "_day_8               97059 non-null uint8\n",
      "_day_9               97059 non-null uint8\n",
      "_day_10              97059 non-null uint8\n",
      "_day_11              97059 non-null uint8\n",
      "_day_12              97059 non-null uint8\n",
      "_day_13              97059 non-null uint8\n",
      "_day_14              97059 non-null uint8\n",
      "_day_15              97059 non-null uint8\n",
      "_day_16              97059 non-null uint8\n",
      "_day_17              97059 non-null uint8\n",
      "_day_18              97059 non-null uint8\n",
      "_day_19              97059 non-null uint8\n",
      "_day_20              97059 non-null uint8\n",
      "_day_21              97059 non-null uint8\n",
      "_day_22              97059 non-null uint8\n",
      "_day_23              97059 non-null uint8\n",
      "_day_24              97059 non-null uint8\n",
      "_day_25              97059 non-null uint8\n",
      "_day_26              97059 non-null uint8\n",
      "_day_27              97059 non-null uint8\n",
      "_day_28              97059 non-null uint8\n",
      "_day_29              97059 non-null uint8\n",
      "_day_30              97059 non-null uint8\n",
      "_day_31              97059 non-null uint8\n",
      "_dayofweek_1         97059 non-null uint8\n",
      "_dayofweek_2         97059 non-null uint8\n",
      "_dayofweek_3         97059 non-null uint8\n",
      "_dayofweek_4         97059 non-null uint8\n",
      "_dayofweek_5         97059 non-null uint8\n",
      "_dayofweek_6         97059 non-null uint8\n",
      "_hour_1              97059 non-null uint8\n",
      "_hour_2              97059 non-null uint8\n",
      "_hour_3              97059 non-null uint8\n",
      "_hour_4              97059 non-null uint8\n",
      "_hour_5              97059 non-null uint8\n",
      "_hour_6              97059 non-null uint8\n",
      "_hour_7              97059 non-null uint8\n",
      "_hour_8              97059 non-null uint8\n",
      "_hour_9              97059 non-null uint8\n",
      "_hour_10             97059 non-null uint8\n",
      "_hour_11             97059 non-null uint8\n",
      "_hour_12             97059 non-null uint8\n",
      "_hour_13             97059 non-null uint8\n",
      "_hour_14             97059 non-null uint8\n",
      "_hour_15             97059 non-null uint8\n",
      "_hour_16             97059 non-null uint8\n",
      "_hour_17             97059 non-null uint8\n",
      "_hour_18             97059 non-null uint8\n",
      "_hour_19             97059 non-null uint8\n",
      "_hour_20             97059 non-null uint8\n",
      "_hour_21             97059 non-null uint8\n",
      "_hour_22             97059 non-null uint8\n",
      "_hour_23             97059 non-null uint8\n",
      "dtypes: datetime64[ns, UTC](1), float64(7), int64(5), object(2), uint8(70)\n",
      "memory usage: 18.3+ MB\n"
     ]
    }
   ],
   "source": [
    "new_df.info()"
   ]
  },
  {
   "cell_type": "code",
   "execution_count": 54,
   "metadata": {},
   "outputs": [
    {
     "name": "stdout",
     "output_type": "stream",
     "text": [
      "Train on 78617 samples, validate on 8736 samples\n",
      "Epoch 1/10\n",
      "78617/78617 [==============================] - 4s 51us/sample - loss: 40.8203 - val_loss: 40.5755\n",
      "Epoch 2/10\n",
      "78617/78617 [==============================] - 3s 44us/sample - loss: 40.0366 - val_loss: 40.4418\n",
      "Epoch 3/10\n",
      "78617/78617 [==============================] - 4s 45us/sample - loss: 40.0415 - val_loss: 40.6583\n",
      "Epoch 4/10\n",
      "78617/78617 [==============================] - 4s 46us/sample - loss: 39.8046 - val_loss: 40.7784\n",
      "Epoch 5/10\n",
      "78617/78617 [==============================] - 3s 42us/sample - loss: 39.7487 - val_loss: 40.3861\n",
      "Epoch 6/10\n",
      "78617/78617 [==============================] - 3s 42us/sample - loss: 39.7456 - val_loss: 40.5103\n",
      "Epoch 7/10\n",
      "78617/78617 [==============================] - 4s 45us/sample - loss: 39.6783 - val_loss: 40.3894\n",
      "Epoch 8/10\n",
      "78617/78617 [==============================] - 3s 42us/sample - loss: 39.6498 - val_loss: 40.3064\n",
      "Epoch 9/10\n",
      "78617/78617 [==============================] - 3s 41us/sample - loss: 39.6411 - val_loss: 40.3592\n",
      "Epoch 10/10\n",
      "78617/78617 [==============================] - 3s 42us/sample - loss: 39.6241 - val_loss: 40.2673\n"
     ]
    },
    {
     "data": {
      "text/plain": [
       "<tensorflow.python.keras.callbacks.History at 0x1a2bf4c550>"
      ]
     },
     "execution_count": 54,
     "metadata": {},
     "output_type": "execute_result"
    }
   ],
   "source": [
    "X = new_df.drop(['fare_amount', 'key', 'pickup_datetime', '_pickup_datetime'], axis=1).values\n",
    "y = new_df[['fare_amount']].values\n",
    "X_train, X_test, y_train, y_test = train_test_split(X, y, test_size=0.1, random_state=1)\n",
    "\n",
    "#featuresLayer = keras.layers.DenseFeatures(dense_columns)\n",
    "model = keras.Sequential([\n",
    "    keras.layers.Dense(128, input_shape=(X_train.shape[1],), activation='relu'),\n",
    "    keras.layers.Dense(128, activation='relu'),\n",
    "    keras.layers.Dense(1)\n",
    "])\n",
    "\n",
    "model.compile(optimizer='adam', loss='mse')\n",
    "\n",
    "model.fit(X_train, y_train, epochs=10, validation_split=0.1)"
   ]
  },
  {
   "cell_type": "code",
   "execution_count": 55,
   "metadata": {},
   "outputs": [
    {
     "data": {
      "text/html": [
       "<div>\n",
       "<style scoped>\n",
       "    .dataframe tbody tr th:only-of-type {\n",
       "        vertical-align: middle;\n",
       "    }\n",
       "\n",
       "    .dataframe tbody tr th {\n",
       "        vertical-align: top;\n",
       "    }\n",
       "\n",
       "    .dataframe thead th {\n",
       "        text-align: right;\n",
       "    }\n",
       "</style>\n",
       "<table border=\"1\" class=\"dataframe\">\n",
       "  <thead>\n",
       "    <tr style=\"text-align: right;\">\n",
       "      <th></th>\n",
       "      <th>actuals</th>\n",
       "      <th>predicted</th>\n",
       "    </tr>\n",
       "  </thead>\n",
       "  <tbody>\n",
       "    <tr>\n",
       "      <td>0</td>\n",
       "      <td>6.1</td>\n",
       "      <td>10.421910</td>\n",
       "    </tr>\n",
       "    <tr>\n",
       "      <td>1</td>\n",
       "      <td>12.0</td>\n",
       "      <td>10.281181</td>\n",
       "    </tr>\n",
       "    <tr>\n",
       "      <td>2</td>\n",
       "      <td>12.5</td>\n",
       "      <td>10.129665</td>\n",
       "    </tr>\n",
       "    <tr>\n",
       "      <td>3</td>\n",
       "      <td>7.3</td>\n",
       "      <td>10.427169</td>\n",
       "    </tr>\n",
       "    <tr>\n",
       "      <td>4</td>\n",
       "      <td>5.7</td>\n",
       "      <td>10.393727</td>\n",
       "    </tr>\n",
       "    <tr>\n",
       "      <td>5</td>\n",
       "      <td>12.5</td>\n",
       "      <td>9.742668</td>\n",
       "    </tr>\n",
       "    <tr>\n",
       "      <td>6</td>\n",
       "      <td>13.3</td>\n",
       "      <td>9.824142</td>\n",
       "    </tr>\n",
       "    <tr>\n",
       "      <td>7</td>\n",
       "      <td>7.3</td>\n",
       "      <td>9.882808</td>\n",
       "    </tr>\n",
       "    <tr>\n",
       "      <td>8</td>\n",
       "      <td>7.3</td>\n",
       "      <td>11.196821</td>\n",
       "    </tr>\n",
       "    <tr>\n",
       "      <td>9</td>\n",
       "      <td>31.5</td>\n",
       "      <td>11.032345</td>\n",
       "    </tr>\n",
       "  </tbody>\n",
       "</table>\n",
       "</div>"
      ],
      "text/plain": [
       "   actuals  predicted\n",
       "0      6.1  10.421910\n",
       "1     12.0  10.281181\n",
       "2     12.5  10.129665\n",
       "3      7.3  10.427169\n",
       "4      5.7  10.393727\n",
       "5     12.5   9.742668\n",
       "6     13.3   9.824142\n",
       "7      7.3   9.882808\n",
       "8      7.3  11.196821\n",
       "9     31.5  11.032345"
      ]
     },
     "execution_count": 55,
     "metadata": {},
     "output_type": "execute_result"
    }
   ],
   "source": [
    "y_pred = model.predict(X_test)\n",
    "comp = pd.DataFrame({'actuals': y_test.reshape(-1), 'predicted': y_pred.reshape(-1)})\n",
    "comp.head(n=10)"
   ]
  },
  {
   "cell_type": "code",
   "execution_count": 56,
   "metadata": {},
   "outputs": [
    {
     "name": "stdout",
     "output_type": "stream",
     "text": [
      "MSE: 40.004712725239806\n"
     ]
    }
   ],
   "source": [
    "print('MSE: {}'.format(mean_squared_error(y_test, y_pred)))"
   ]
  },
  {
   "cell_type": "markdown",
   "metadata": {},
   "source": [
    "# Use Estimators"
   ]
  },
  {
   "cell_type": "markdown",
   "metadata": {},
   "source": [
    "## Linear Model"
   ]
  },
  {
   "cell_type": "code",
   "execution_count": 71,
   "metadata": {},
   "outputs": [],
   "source": [
    "def train_fn():\n",
    "  _df = train.copy()\n",
    "  labels = _df.pop('fare_amount')\n",
    "  features_df = _df[columns]\n",
    "  ds = tf.data.Dataset.from_tensor_slices( (dict(features_df), labels) )\n",
    "  _ds = ds.shuffle(train.shape[0]).batch(64).repeat(5)\n",
    "  \n",
    "  return _ds\n",
    "\n",
    "def eval_fn():\n",
    "  _df = val.copy()\n",
    "  labels = _df.pop('fare_amount')\n",
    "  features_df = _df[columns]\n",
    "  ds = tf.data.Dataset.from_tensor_slices( (dict(features_df), labels) )\n",
    "  _ds = ds.batch(64).repeat(1)\n",
    "  \n",
    "  return _ds"
   ]
  },
  {
   "cell_type": "code",
   "execution_count": 72,
   "metadata": {},
   "outputs": [
    {
     "name": "stdout",
     "output_type": "stream",
     "text": [
      "INFO:tensorflow:Using default config.\n",
      "WARNING:tensorflow:Using temporary folder as model directory: /var/folders/xm/rvswt1sx4rdf56_wpqz5rt4c0000gn/T/tmpomjus_q7\n",
      "INFO:tensorflow:Using config: {'_model_dir': '/var/folders/xm/rvswt1sx4rdf56_wpqz5rt4c0000gn/T/tmpomjus_q7', '_tf_random_seed': None, '_save_summary_steps': 100, '_save_checkpoints_steps': None, '_save_checkpoints_secs': 600, '_session_config': allow_soft_placement: true\n",
      "graph_options {\n",
      "  rewrite_options {\n",
      "    meta_optimizer_iterations: ONE\n",
      "  }\n",
      "}\n",
      ", '_keep_checkpoint_max': 5, '_keep_checkpoint_every_n_hours': 10000, '_log_step_count_steps': 100, '_train_distribute': None, '_device_fn': None, '_protocol': None, '_eval_distribute': None, '_experimental_distribute': None, '_experimental_max_worker_delay_secs': None, '_session_creation_timeout_secs': 7200, '_service': None, '_cluster_spec': <tensorflow.python.training.server_lib.ClusterSpec object at 0x1a2bfda150>, '_task_type': 'worker', '_task_id': 0, '_global_id_in_cluster': 0, '_master': '', '_evaluation_master': '', '_is_chief': True, '_num_ps_replicas': 0, '_num_worker_replicas': 1}\n"
     ]
    }
   ],
   "source": [
    "estimator = tf.estimator.LinearRegressor(feature_columns=feature_columns)"
   ]
  },
  {
   "cell_type": "code",
   "execution_count": 73,
   "metadata": {},
   "outputs": [
    {
     "name": "stdout",
     "output_type": "stream",
     "text": [
      "INFO:tensorflow:Calling model_fn.\n",
      "WARNING:tensorflow:Layer linear/linear_model is casting an input tensor from dtype float64 to the layer's dtype of float32, which is new behavior in TensorFlow 2.  The layer has dtype float32 because it's dtype defaults to floatx.\n",
      "\n",
      "If you intended to run this layer in float32, you can safely ignore this warning. If in doubt, this warning is likely only an issue if you are porting a TensorFlow 1.X model to TensorFlow 2.\n",
      "\n",
      "To change all layers to have dtype float64 by default, call `tf.keras.backend.set_floatx('float64')`. To change just this layer, pass dtype='float64' to the layer constructor. If you are the author of this layer, you can disable autocasting by passing autocast=False to the base Layer constructor.\n",
      "\n",
      "WARNING:tensorflow:From /Users/robert/anaconda3/envs/tensorflow/lib/python3.7/site-packages/tensorflow_core/python/feature_column/feature_column_v2.py:518: Layer.add_variable (from tensorflow.python.keras.engine.base_layer) is deprecated and will be removed in a future version.\n",
      "Instructions for updating:\n",
      "Please use `layer.add_weight` method instead.\n",
      "WARNING:tensorflow:From /Users/robert/anaconda3/envs/tensorflow/lib/python3.7/site-packages/tensorflow_estimator/python/estimator/canned/linear.py:308: to_float (from tensorflow.python.ops.math_ops) is deprecated and will be removed in a future version.\n",
      "Instructions for updating:\n",
      "Use `tf.cast` instead.\n",
      "WARNING:tensorflow:From /Users/robert/anaconda3/envs/tensorflow/lib/python3.7/site-packages/tensorflow_core/python/keras/optimizer_v2/ftrl.py:143: calling Constant.__init__ (from tensorflow.python.ops.init_ops) with dtype is deprecated and will be removed in a future version.\n",
      "Instructions for updating:\n",
      "Call initializer instance with the dtype argument instead of passing it to the constructor\n",
      "INFO:tensorflow:Done calling model_fn.\n",
      "INFO:tensorflow:Create CheckpointSaverHook.\n",
      "INFO:tensorflow:Graph was finalized.\n",
      "INFO:tensorflow:Running local_init_op.\n",
      "INFO:tensorflow:Done running local_init_op.\n",
      "INFO:tensorflow:Saving checkpoints for 0 into /var/folders/xm/rvswt1sx4rdf56_wpqz5rt4c0000gn/T/tmpomjus_q7/model.ckpt.\n",
      "INFO:tensorflow:loss = 155.76907, step = 0\n",
      "INFO:tensorflow:global_step/sec: 251.042\n",
      "INFO:tensorflow:loss = 31.54075, step = 100 (0.399 sec)\n",
      "INFO:tensorflow:global_step/sec: 711.531\n",
      "INFO:tensorflow:loss = 40.266624, step = 200 (0.141 sec)\n",
      "INFO:tensorflow:global_step/sec: 679.178\n",
      "INFO:tensorflow:loss = 47.980427, step = 300 (0.147 sec)\n",
      "INFO:tensorflow:global_step/sec: 662.704\n",
      "INFO:tensorflow:loss = 21.306597, step = 400 (0.151 sec)\n",
      "INFO:tensorflow:global_step/sec: 626.727\n",
      "INFO:tensorflow:loss = 24.782413, step = 500 (0.160 sec)\n",
      "INFO:tensorflow:global_step/sec: 626.358\n",
      "INFO:tensorflow:loss = 39.06607, step = 600 (0.160 sec)\n",
      "INFO:tensorflow:global_step/sec: 639.496\n",
      "INFO:tensorflow:loss = 20.061455, step = 700 (0.156 sec)\n",
      "INFO:tensorflow:global_step/sec: 620.201\n",
      "INFO:tensorflow:loss = 23.219418, step = 800 (0.161 sec)\n",
      "INFO:tensorflow:global_step/sec: 609.021\n",
      "INFO:tensorflow:loss = 69.05177, step = 900 (0.164 sec)\n",
      "INFO:tensorflow:global_step/sec: 633.429\n",
      "INFO:tensorflow:loss = 46.0957, step = 1000 (0.158 sec)\n",
      "INFO:tensorflow:global_step/sec: 612.968\n",
      "INFO:tensorflow:loss = 47.31208, step = 1100 (0.163 sec)\n",
      "INFO:tensorflow:global_step/sec: 637.979\n",
      "INFO:tensorflow:loss = 32.39578, step = 1200 (0.157 sec)\n",
      "INFO:tensorflow:global_step/sec: 613.556\n",
      "INFO:tensorflow:loss = 55.879192, step = 1300 (0.162 sec)\n",
      "INFO:tensorflow:global_step/sec: 223.988\n",
      "INFO:tensorflow:loss = 42.576668, step = 1400 (0.446 sec)\n",
      "INFO:tensorflow:global_step/sec: 701.627\n",
      "INFO:tensorflow:loss = 39.801826, step = 1500 (0.143 sec)\n",
      "INFO:tensorflow:global_step/sec: 617.447\n",
      "INFO:tensorflow:loss = 23.600515, step = 1600 (0.162 sec)\n",
      "INFO:tensorflow:global_step/sec: 619.683\n",
      "INFO:tensorflow:loss = 43.66731, step = 1700 (0.161 sec)\n",
      "INFO:tensorflow:global_step/sec: 636.701\n",
      "INFO:tensorflow:loss = 22.946846, step = 1800 (0.157 sec)\n",
      "INFO:tensorflow:global_step/sec: 603.926\n",
      "INFO:tensorflow:loss = 46.774986, step = 1900 (0.166 sec)\n",
      "INFO:tensorflow:global_step/sec: 577.932\n",
      "INFO:tensorflow:loss = 49.009186, step = 2000 (0.173 sec)\n",
      "INFO:tensorflow:global_step/sec: 659.499\n",
      "INFO:tensorflow:loss = 36.027756, step = 2100 (0.151 sec)\n",
      "INFO:tensorflow:global_step/sec: 788.215\n",
      "INFO:tensorflow:loss = 34.33033, step = 2200 (0.127 sec)\n",
      "INFO:tensorflow:global_step/sec: 735.552\n",
      "INFO:tensorflow:loss = 46.106308, step = 2300 (0.137 sec)\n",
      "INFO:tensorflow:global_step/sec: 547.139\n",
      "INFO:tensorflow:loss = 47.54172, step = 2400 (0.182 sec)\n",
      "INFO:tensorflow:global_step/sec: 635.522\n",
      "INFO:tensorflow:loss = 29.608194, step = 2500 (0.157 sec)\n",
      "INFO:tensorflow:global_step/sec: 583.342\n",
      "INFO:tensorflow:loss = 46.708286, step = 2600 (0.171 sec)\n",
      "INFO:tensorflow:global_step/sec: 535.034\n",
      "INFO:tensorflow:loss = 33.670082, step = 2700 (0.188 sec)\n",
      "INFO:tensorflow:global_step/sec: 212.043\n",
      "INFO:tensorflow:loss = 35.109737, step = 2800 (0.471 sec)\n",
      "INFO:tensorflow:global_step/sec: 741.911\n",
      "INFO:tensorflow:loss = 30.936892, step = 2900 (0.135 sec)\n",
      "INFO:tensorflow:global_step/sec: 740.834\n",
      "INFO:tensorflow:loss = 41.577816, step = 3000 (0.135 sec)\n",
      "INFO:tensorflow:global_step/sec: 707.529\n",
      "INFO:tensorflow:loss = 45.476967, step = 3100 (0.141 sec)\n",
      "INFO:tensorflow:global_step/sec: 624.742\n",
      "INFO:tensorflow:loss = 66.0399, step = 3200 (0.160 sec)\n",
      "INFO:tensorflow:global_step/sec: 620.486\n",
      "INFO:tensorflow:loss = 23.451004, step = 3300 (0.161 sec)\n",
      "INFO:tensorflow:global_step/sec: 571.412\n",
      "INFO:tensorflow:loss = 60.227127, step = 3400 (0.176 sec)\n",
      "INFO:tensorflow:global_step/sec: 623.341\n",
      "INFO:tensorflow:loss = 43.57485, step = 3500 (0.160 sec)\n",
      "INFO:tensorflow:global_step/sec: 611.823\n",
      "INFO:tensorflow:loss = 49.760834, step = 3600 (0.163 sec)\n",
      "INFO:tensorflow:global_step/sec: 610.191\n",
      "INFO:tensorflow:loss = 53.276073, step = 3700 (0.164 sec)\n",
      "INFO:tensorflow:global_step/sec: 628.133\n",
      "INFO:tensorflow:loss = 38.863888, step = 3800 (0.159 sec)\n",
      "INFO:tensorflow:global_step/sec: 657.488\n",
      "INFO:tensorflow:loss = 21.732616, step = 3900 (0.153 sec)\n",
      "INFO:tensorflow:global_step/sec: 585.761\n",
      "INFO:tensorflow:loss = 43.156906, step = 4000 (0.170 sec)\n",
      "INFO:tensorflow:global_step/sec: 190.159\n",
      "INFO:tensorflow:loss = 42.204643, step = 4100 (0.526 sec)\n",
      "INFO:tensorflow:global_step/sec: 708.216\n",
      "INFO:tensorflow:loss = 27.460323, step = 4200 (0.141 sec)\n",
      "INFO:tensorflow:global_step/sec: 696.829\n",
      "INFO:tensorflow:loss = 40.976624, step = 4300 (0.144 sec)\n",
      "INFO:tensorflow:global_step/sec: 675.58\n",
      "INFO:tensorflow:loss = 50.95831, step = 4400 (0.148 sec)\n",
      "INFO:tensorflow:global_step/sec: 685.092\n",
      "INFO:tensorflow:loss = 51.869404, step = 4500 (0.146 sec)\n",
      "INFO:tensorflow:global_step/sec: 607.11\n",
      "INFO:tensorflow:loss = 45.128807, step = 4600 (0.165 sec)\n",
      "INFO:tensorflow:global_step/sec: 501.23\n",
      "INFO:tensorflow:loss = 69.90035, step = 4700 (0.199 sec)\n",
      "INFO:tensorflow:global_step/sec: 563.435\n",
      "INFO:tensorflow:loss = 31.311121, step = 4800 (0.177 sec)\n",
      "INFO:tensorflow:global_step/sec: 615.728\n",
      "INFO:tensorflow:loss = 56.03068, step = 4900 (0.163 sec)\n",
      "INFO:tensorflow:global_step/sec: 612.701\n",
      "INFO:tensorflow:loss = 33.725037, step = 5000 (0.163 sec)\n",
      "INFO:tensorflow:global_step/sec: 616.477\n",
      "INFO:tensorflow:loss = 38.65421, step = 5100 (0.162 sec)\n",
      "INFO:tensorflow:global_step/sec: 618.024\n",
      "INFO:tensorflow:loss = 41.47632, step = 5200 (0.162 sec)\n",
      "INFO:tensorflow:global_step/sec: 613.283\n",
      "INFO:tensorflow:loss = 28.26997, step = 5300 (0.163 sec)\n",
      "INFO:tensorflow:global_step/sec: 609.73\n",
      "INFO:tensorflow:loss = 30.081577, step = 5400 (0.164 sec)\n",
      "INFO:tensorflow:global_step/sec: 208.515\n",
      "INFO:tensorflow:loss = 43.126316, step = 5500 (0.480 sec)\n",
      "INFO:tensorflow:global_step/sec: 719.114\n",
      "INFO:tensorflow:loss = 35.464504, step = 5600 (0.139 sec)\n",
      "INFO:tensorflow:global_step/sec: 687.442\n",
      "INFO:tensorflow:loss = 33.155037, step = 5700 (0.146 sec)\n",
      "INFO:tensorflow:global_step/sec: 682.636\n",
      "INFO:tensorflow:loss = 26.553606, step = 5800 (0.146 sec)\n",
      "INFO:tensorflow:global_step/sec: 719.041\n",
      "INFO:tensorflow:loss = 27.64273, step = 5900 (0.140 sec)\n",
      "INFO:tensorflow:global_step/sec: 625.658\n",
      "INFO:tensorflow:loss = 48.1946, step = 6000 (0.159 sec)\n",
      "INFO:tensorflow:global_step/sec: 612.774\n",
      "INFO:tensorflow:loss = 88.24672, step = 6100 (0.163 sec)\n",
      "INFO:tensorflow:global_step/sec: 693.5\n"
     ]
    },
    {
     "name": "stdout",
     "output_type": "stream",
     "text": [
      "INFO:tensorflow:loss = 38.05324, step = 6200 (0.144 sec)\n",
      "INFO:tensorflow:global_step/sec: 708.251\n",
      "INFO:tensorflow:loss = 22.794987, step = 6300 (0.141 sec)\n",
      "INFO:tensorflow:global_step/sec: 642.575\n",
      "INFO:tensorflow:loss = 32.891815, step = 6400 (0.156 sec)\n",
      "INFO:tensorflow:global_step/sec: 652.903\n",
      "INFO:tensorflow:loss = 40.28315, step = 6500 (0.153 sec)\n",
      "INFO:tensorflow:global_step/sec: 663.896\n",
      "INFO:tensorflow:loss = 71.13335, step = 6600 (0.150 sec)\n",
      "INFO:tensorflow:global_step/sec: 640.7\n",
      "INFO:tensorflow:loss = 27.422268, step = 6700 (0.156 sec)\n",
      "INFO:tensorflow:global_step/sec: 641.256\n",
      "INFO:tensorflow:loss = 57.875298, step = 6800 (0.156 sec)\n",
      "INFO:tensorflow:Saving checkpoints for 6825 into /var/folders/xm/rvswt1sx4rdf56_wpqz5rt4c0000gn/T/tmpomjus_q7/model.ckpt.\n",
      "INFO:tensorflow:Loss for final step: 22.776964.\n"
     ]
    },
    {
     "data": {
      "text/plain": [
       "<tensorflow_estimator.python.estimator.canned.linear.LinearRegressorV2 at 0x1a2bfd0e90>"
      ]
     },
     "execution_count": 73,
     "metadata": {},
     "output_type": "execute_result"
    }
   ],
   "source": [
    "estimator.train(input_fn=train_fn, steps=None)"
   ]
  },
  {
   "cell_type": "code",
   "execution_count": 74,
   "metadata": {},
   "outputs": [
    {
     "name": "stdout",
     "output_type": "stream",
     "text": [
      "INFO:tensorflow:Calling model_fn.\n",
      "WARNING:tensorflow:Layer linear/linear_model is casting an input tensor from dtype float64 to the layer's dtype of float32, which is new behavior in TensorFlow 2.  The layer has dtype float32 because it's dtype defaults to floatx.\n",
      "\n",
      "If you intended to run this layer in float32, you can safely ignore this warning. If in doubt, this warning is likely only an issue if you are porting a TensorFlow 1.X model to TensorFlow 2.\n",
      "\n",
      "To change all layers to have dtype float64 by default, call `tf.keras.backend.set_floatx('float64')`. To change just this layer, pass dtype='float64' to the layer constructor. If you are the author of this layer, you can disable autocasting by passing autocast=False to the base Layer constructor.\n",
      "\n",
      "INFO:tensorflow:Done calling model_fn.\n",
      "INFO:tensorflow:Starting evaluation at 2020-04-22T15:50:25Z\n",
      "INFO:tensorflow:Graph was finalized.\n",
      "INFO:tensorflow:Restoring parameters from /var/folders/xm/rvswt1sx4rdf56_wpqz5rt4c0000gn/T/tmpomjus_q7/model.ckpt-6825\n",
      "INFO:tensorflow:Running local_init_op.\n",
      "INFO:tensorflow:Done running local_init_op.\n",
      "INFO:tensorflow:Finished evaluation at 2020-04-22-15:50:26\n",
      "INFO:tensorflow:Saving dict for global step 6825: average_loss = 40.17797, global_step = 6825, label/mean = 10.078173, loss = 40.17694, prediction/mean = 9.942054\n",
      "INFO:tensorflow:Saving 'checkpoint_path' summary for global step 6825: /var/folders/xm/rvswt1sx4rdf56_wpqz5rt4c0000gn/T/tmpomjus_q7/model.ckpt-6825\n"
     ]
    }
   ],
   "source": [
    "linear_evaluation = estimator.evaluate(input_fn=eval_fn)"
   ]
  },
  {
   "cell_type": "code",
   "execution_count": 75,
   "metadata": {},
   "outputs": [
    {
     "name": "stdout",
     "output_type": "stream",
     "text": [
      "{'average_loss': 40.17797, 'label/mean': 10.078173, 'loss': 40.17694, 'prediction/mean': 9.942054, 'global_step': 6825}\n"
     ]
    }
   ],
   "source": [
    "print(linear_evaluation)"
   ]
  },
  {
   "cell_type": "code",
   "execution_count": 76,
   "metadata": {},
   "outputs": [],
   "source": [
    "p = estimator.predict(input_fn = eval_fn)"
   ]
  },
  {
   "cell_type": "code",
   "execution_count": 77,
   "metadata": {},
   "outputs": [
    {
     "name": "stdout",
     "output_type": "stream",
     "text": [
      "INFO:tensorflow:Calling model_fn.\n",
      "WARNING:tensorflow:Layer linear/linear_model is casting an input tensor from dtype float64 to the layer's dtype of float32, which is new behavior in TensorFlow 2.  The layer has dtype float32 because it's dtype defaults to floatx.\n",
      "\n",
      "If you intended to run this layer in float32, you can safely ignore this warning. If in doubt, this warning is likely only an issue if you are porting a TensorFlow 1.X model to TensorFlow 2.\n",
      "\n",
      "To change all layers to have dtype float64 by default, call `tf.keras.backend.set_floatx('float64')`. To change just this layer, pass dtype='float64' to the layer constructor. If you are the author of this layer, you can disable autocasting by passing autocast=False to the base Layer constructor.\n",
      "\n",
      "INFO:tensorflow:Done calling model_fn.\n",
      "INFO:tensorflow:Graph was finalized.\n",
      "INFO:tensorflow:Restoring parameters from /var/folders/xm/rvswt1sx4rdf56_wpqz5rt4c0000gn/T/tmpomjus_q7/model.ckpt-6825\n",
      "INFO:tensorflow:Running local_init_op.\n",
      "INFO:tensorflow:Done running local_init_op.\n"
     ]
    }
   ],
   "source": [
    "preds = np.array([item['predictions'][0] for item in p])"
   ]
  },
  {
   "cell_type": "code",
   "execution_count": 78,
   "metadata": {},
   "outputs": [],
   "source": [
    "_c = pd.DataFrame({'actual': val[['fare_amount']].values.reshape(-1), 'prediction': preds.reshape(-1)})"
   ]
  },
  {
   "cell_type": "code",
   "execution_count": 79,
   "metadata": {},
   "outputs": [
    {
     "data": {
      "text/html": [
       "<div>\n",
       "<style scoped>\n",
       "    .dataframe tbody tr th:only-of-type {\n",
       "        vertical-align: middle;\n",
       "    }\n",
       "\n",
       "    .dataframe tbody tr th {\n",
       "        vertical-align: top;\n",
       "    }\n",
       "\n",
       "    .dataframe thead th {\n",
       "        text-align: right;\n",
       "    }\n",
       "</style>\n",
       "<table border=\"1\" class=\"dataframe\">\n",
       "  <thead>\n",
       "    <tr style=\"text-align: right;\">\n",
       "      <th></th>\n",
       "      <th>actual</th>\n",
       "      <th>prediction</th>\n",
       "    </tr>\n",
       "  </thead>\n",
       "  <tbody>\n",
       "    <tr>\n",
       "      <td>0</td>\n",
       "      <td>5.3</td>\n",
       "      <td>9.517053</td>\n",
       "    </tr>\n",
       "    <tr>\n",
       "      <td>1</td>\n",
       "      <td>7.0</td>\n",
       "      <td>9.404129</td>\n",
       "    </tr>\n",
       "    <tr>\n",
       "      <td>2</td>\n",
       "      <td>11.5</td>\n",
       "      <td>9.603594</td>\n",
       "    </tr>\n",
       "    <tr>\n",
       "      <td>3</td>\n",
       "      <td>5.5</td>\n",
       "      <td>9.598499</td>\n",
       "    </tr>\n",
       "    <tr>\n",
       "      <td>4</td>\n",
       "      <td>5.3</td>\n",
       "      <td>9.470545</td>\n",
       "    </tr>\n",
       "  </tbody>\n",
       "</table>\n",
       "</div>"
      ],
      "text/plain": [
       "   actual  prediction\n",
       "0     5.3    9.517053\n",
       "1     7.0    9.404129\n",
       "2    11.5    9.603594\n",
       "3     5.5    9.598499\n",
       "4     5.3    9.470545"
      ]
     },
     "execution_count": 79,
     "metadata": {},
     "output_type": "execute_result"
    }
   ],
   "source": [
    "_c.head()"
   ]
  },
  {
   "cell_type": "code",
   "execution_count": 80,
   "metadata": {},
   "outputs": [],
   "source": [
    "from sklearn.metrics import mean_squared_error"
   ]
  },
  {
   "cell_type": "code",
   "execution_count": 81,
   "metadata": {},
   "outputs": [
    {
     "name": "stdout",
     "output_type": "stream",
     "text": [
      "MSE: 40.17796967422556\n"
     ]
    }
   ],
   "source": [
    "print('MSE: {}'.format(mean_squared_error(val[['fare_amount']].values.reshape(-1), preds.reshape(-1))))"
   ]
  },
  {
   "cell_type": "markdown",
   "metadata": {},
   "source": [
    "## DNN"
   ]
  },
  {
   "cell_type": "code",
   "execution_count": 83,
   "metadata": {},
   "outputs": [
    {
     "name": "stdout",
     "output_type": "stream",
     "text": [
      "INFO:tensorflow:Using default config.\n",
      "WARNING:tensorflow:Using temporary folder as model directory: /var/folders/xm/rvswt1sx4rdf56_wpqz5rt4c0000gn/T/tmp3jd07rzn\n",
      "INFO:tensorflow:Using config: {'_model_dir': '/var/folders/xm/rvswt1sx4rdf56_wpqz5rt4c0000gn/T/tmp3jd07rzn', '_tf_random_seed': None, '_save_summary_steps': 100, '_save_checkpoints_steps': None, '_save_checkpoints_secs': 600, '_session_config': allow_soft_placement: true\n",
      "graph_options {\n",
      "  rewrite_options {\n",
      "    meta_optimizer_iterations: ONE\n",
      "  }\n",
      "}\n",
      ", '_keep_checkpoint_max': 5, '_keep_checkpoint_every_n_hours': 10000, '_log_step_count_steps': 100, '_train_distribute': None, '_device_fn': None, '_protocol': None, '_eval_distribute': None, '_experimental_distribute': None, '_experimental_max_worker_delay_secs': None, '_session_creation_timeout_secs': 7200, '_service': None, '_cluster_spec': <tensorflow.python.training.server_lib.ClusterSpec object at 0x1a39743a50>, '_task_type': 'worker', '_task_id': 0, '_global_id_in_cluster': 0, '_master': '', '_evaluation_master': '', '_is_chief': True, '_num_ps_replicas': 0, '_num_worker_replicas': 1}\n"
     ]
    }
   ],
   "source": [
    "dense = tf.estimator.DNNRegressor(feature_columns=dense_columns, hidden_units=[64, 64])"
   ]
  },
  {
   "cell_type": "code",
   "execution_count": 84,
   "metadata": {},
   "outputs": [
    {
     "name": "stdout",
     "output_type": "stream",
     "text": [
      "INFO:tensorflow:Calling model_fn.\n",
      "WARNING:tensorflow:Layer dnn is casting an input tensor from dtype float64 to the layer's dtype of float32, which is new behavior in TensorFlow 2.  The layer has dtype float32 because it's dtype defaults to floatx.\n",
      "\n",
      "If you intended to run this layer in float32, you can safely ignore this warning. If in doubt, this warning is likely only an issue if you are porting a TensorFlow 1.X model to TensorFlow 2.\n",
      "\n",
      "To change all layers to have dtype float64 by default, call `tf.keras.backend.set_floatx('float64')`. To change just this layer, pass dtype='float64' to the layer constructor. If you are the author of this layer, you can disable autocasting by passing autocast=False to the base Layer constructor.\n",
      "\n",
      "INFO:tensorflow:Done calling model_fn.\n",
      "INFO:tensorflow:Create CheckpointSaverHook.\n",
      "INFO:tensorflow:Graph was finalized.\n",
      "INFO:tensorflow:Running local_init_op.\n",
      "INFO:tensorflow:Done running local_init_op.\n",
      "INFO:tensorflow:Saving checkpoints for 0 into /var/folders/xm/rvswt1sx4rdf56_wpqz5rt4c0000gn/T/tmp3jd07rzn/model.ckpt.\n",
      "INFO:tensorflow:loss = 121.14745, step = 0\n",
      "INFO:tensorflow:global_step/sec: 144.908\n",
      "INFO:tensorflow:loss = 137.7486, step = 100 (0.691 sec)\n",
      "INFO:tensorflow:global_step/sec: 282.23\n",
      "INFO:tensorflow:loss = 36.71854, step = 200 (0.354 sec)\n",
      "INFO:tensorflow:global_step/sec: 313.061\n",
      "INFO:tensorflow:loss = 44.92758, step = 300 (0.319 sec)\n",
      "INFO:tensorflow:global_step/sec: 281.441\n",
      "INFO:tensorflow:loss = 46.11479, step = 400 (0.355 sec)\n",
      "INFO:tensorflow:global_step/sec: 279.055\n",
      "INFO:tensorflow:loss = 44.574013, step = 500 (0.358 sec)\n",
      "INFO:tensorflow:global_step/sec: 290.946\n",
      "INFO:tensorflow:loss = 48.060486, step = 600 (0.344 sec)\n",
      "INFO:tensorflow:global_step/sec: 279.09\n",
      "INFO:tensorflow:loss = 20.876331, step = 700 (0.358 sec)\n",
      "INFO:tensorflow:global_step/sec: 293.368\n",
      "INFO:tensorflow:loss = 49.236877, step = 800 (0.341 sec)\n",
      "INFO:tensorflow:global_step/sec: 269.371\n",
      "INFO:tensorflow:loss = 32.742737, step = 900 (0.371 sec)\n",
      "INFO:tensorflow:global_step/sec: 273.425\n",
      "INFO:tensorflow:loss = 66.10729, step = 1000 (0.366 sec)\n",
      "INFO:tensorflow:global_step/sec: 284.577\n",
      "INFO:tensorflow:loss = 38.157665, step = 1100 (0.351 sec)\n",
      "INFO:tensorflow:global_step/sec: 302.232\n",
      "INFO:tensorflow:loss = 25.607296, step = 1200 (0.331 sec)\n",
      "INFO:tensorflow:global_step/sec: 284.301\n",
      "INFO:tensorflow:loss = 26.061104, step = 1300 (0.352 sec)\n",
      "INFO:tensorflow:global_step/sec: 147.021\n",
      "INFO:tensorflow:loss = 47.24118, step = 1400 (0.680 sec)\n",
      "INFO:tensorflow:global_step/sec: 290.386\n",
      "INFO:tensorflow:loss = 32.72767, step = 1500 (0.344 sec)\n",
      "INFO:tensorflow:global_step/sec: 291.782\n",
      "INFO:tensorflow:loss = 39.681305, step = 1600 (0.342 sec)\n",
      "INFO:tensorflow:global_step/sec: 310.239\n",
      "INFO:tensorflow:loss = 33.130325, step = 1700 (0.322 sec)\n",
      "INFO:tensorflow:global_step/sec: 278.19\n",
      "INFO:tensorflow:loss = 38.624485, step = 1800 (0.360 sec)\n",
      "INFO:tensorflow:global_step/sec: 313.758\n",
      "INFO:tensorflow:loss = 59.096054, step = 1900 (0.319 sec)\n",
      "INFO:tensorflow:global_step/sec: 291.452\n",
      "INFO:tensorflow:loss = 50.135975, step = 2000 (0.343 sec)\n",
      "INFO:tensorflow:global_step/sec: 284.626\n",
      "INFO:tensorflow:loss = 28.687258, step = 2100 (0.351 sec)\n",
      "INFO:tensorflow:global_step/sec: 272.839\n",
      "INFO:tensorflow:loss = 34.037308, step = 2200 (0.367 sec)\n",
      "INFO:tensorflow:global_step/sec: 280.584\n",
      "INFO:tensorflow:loss = 35.787315, step = 2300 (0.356 sec)\n",
      "INFO:tensorflow:global_step/sec: 288.977\n",
      "INFO:tensorflow:loss = 20.339748, step = 2400 (0.346 sec)\n",
      "INFO:tensorflow:global_step/sec: 271.755\n",
      "INFO:tensorflow:loss = 42.235123, step = 2500 (0.368 sec)\n",
      "INFO:tensorflow:global_step/sec: 251.596\n",
      "INFO:tensorflow:loss = 29.169708, step = 2600 (0.397 sec)\n",
      "INFO:tensorflow:global_step/sec: 270.392\n",
      "INFO:tensorflow:loss = 30.954407, step = 2700 (0.370 sec)\n",
      "INFO:tensorflow:global_step/sec: 148.897\n",
      "INFO:tensorflow:loss = 20.836632, step = 2800 (0.672 sec)\n",
      "INFO:tensorflow:global_step/sec: 311.323\n",
      "INFO:tensorflow:loss = 30.01994, step = 2900 (0.321 sec)\n",
      "INFO:tensorflow:global_step/sec: 303.394\n",
      "INFO:tensorflow:loss = 34.044193, step = 3000 (0.330 sec)\n",
      "INFO:tensorflow:global_step/sec: 298.918\n",
      "INFO:tensorflow:loss = 35.04174, step = 3100 (0.335 sec)\n",
      "INFO:tensorflow:global_step/sec: 310.299\n",
      "INFO:tensorflow:loss = 34.127174, step = 3200 (0.322 sec)\n",
      "INFO:tensorflow:global_step/sec: 319.007\n",
      "INFO:tensorflow:loss = 26.610296, step = 3300 (0.314 sec)\n",
      "INFO:tensorflow:global_step/sec: 286.001\n",
      "INFO:tensorflow:loss = 24.201574, step = 3400 (0.350 sec)\n",
      "INFO:tensorflow:global_step/sec: 307.488\n",
      "INFO:tensorflow:loss = 30.893229, step = 3500 (0.325 sec)\n",
      "INFO:tensorflow:global_step/sec: 303.017\n",
      "INFO:tensorflow:loss = 46.11093, step = 3600 (0.330 sec)\n",
      "INFO:tensorflow:global_step/sec: 290.131\n",
      "INFO:tensorflow:loss = 44.034218, step = 3700 (0.345 sec)\n",
      "INFO:tensorflow:global_step/sec: 307.554\n",
      "INFO:tensorflow:loss = 22.72237, step = 3800 (0.325 sec)\n",
      "INFO:tensorflow:global_step/sec: 279.554\n",
      "INFO:tensorflow:loss = 28.080147, step = 3900 (0.358 sec)\n",
      "INFO:tensorflow:global_step/sec: 255.161\n",
      "INFO:tensorflow:loss = 31.471899, step = 4000 (0.392 sec)\n",
      "INFO:tensorflow:global_step/sec: 131.255\n",
      "INFO:tensorflow:loss = 34.785275, step = 4100 (0.762 sec)\n",
      "INFO:tensorflow:global_step/sec: 290.588\n",
      "INFO:tensorflow:loss = 29.518036, step = 4200 (0.344 sec)\n",
      "INFO:tensorflow:global_step/sec: 294.409\n",
      "INFO:tensorflow:loss = 15.104759, step = 4300 (0.340 sec)\n",
      "INFO:tensorflow:global_step/sec: 294.965\n",
      "INFO:tensorflow:loss = 39.085697, step = 4400 (0.339 sec)\n",
      "INFO:tensorflow:global_step/sec: 287.631\n",
      "INFO:tensorflow:loss = 13.260109, step = 4500 (0.348 sec)\n",
      "INFO:tensorflow:global_step/sec: 294.441\n",
      "INFO:tensorflow:loss = 27.35337, step = 4600 (0.340 sec)\n",
      "INFO:tensorflow:global_step/sec: 317.664\n",
      "INFO:tensorflow:loss = 21.906288, step = 4700 (0.315 sec)\n",
      "INFO:tensorflow:global_step/sec: 298.139\n",
      "INFO:tensorflow:loss = 22.788296, step = 4800 (0.335 sec)\n",
      "INFO:tensorflow:global_step/sec: 302.706\n",
      "INFO:tensorflow:loss = 30.036575, step = 4900 (0.330 sec)\n",
      "INFO:tensorflow:global_step/sec: 294.222\n",
      "INFO:tensorflow:loss = 33.373363, step = 5000 (0.340 sec)\n",
      "INFO:tensorflow:global_step/sec: 311.337\n",
      "INFO:tensorflow:loss = 25.032104, step = 5100 (0.321 sec)\n",
      "INFO:tensorflow:global_step/sec: 328.058\n",
      "INFO:tensorflow:loss = 26.63714, step = 5200 (0.305 sec)\n",
      "INFO:tensorflow:global_step/sec: 305.667\n",
      "INFO:tensorflow:loss = 15.230784, step = 5300 (0.328 sec)\n",
      "INFO:tensorflow:global_step/sec: 296.979\n",
      "INFO:tensorflow:loss = 25.231306, step = 5400 (0.336 sec)\n",
      "INFO:tensorflow:global_step/sec: 151.915\n",
      "INFO:tensorflow:loss = 28.280836, step = 5500 (0.658 sec)\n",
      "INFO:tensorflow:global_step/sec: 304.57\n",
      "INFO:tensorflow:loss = 21.714249, step = 5600 (0.328 sec)\n",
      "INFO:tensorflow:global_step/sec: 300.208\n",
      "INFO:tensorflow:loss = 59.348038, step = 5700 (0.333 sec)\n",
      "INFO:tensorflow:global_step/sec: 303.314\n",
      "INFO:tensorflow:loss = 25.529121, step = 5800 (0.330 sec)\n",
      "INFO:tensorflow:global_step/sec: 316.304\n",
      "INFO:tensorflow:loss = 18.570498, step = 5900 (0.316 sec)\n",
      "INFO:tensorflow:global_step/sec: 333.428\n",
      "INFO:tensorflow:loss = 21.008228, step = 6000 (0.300 sec)\n",
      "INFO:tensorflow:global_step/sec: 298.655\n",
      "INFO:tensorflow:loss = 24.824966, step = 6100 (0.335 sec)\n",
      "INFO:tensorflow:global_step/sec: 283.296\n",
      "INFO:tensorflow:loss = 25.224735, step = 6200 (0.353 sec)\n",
      "INFO:tensorflow:global_step/sec: 294.616\n",
      "INFO:tensorflow:loss = 19.467213, step = 6300 (0.339 sec)\n",
      "INFO:tensorflow:global_step/sec: 301.235\n",
      "INFO:tensorflow:loss = 37.7648, step = 6400 (0.332 sec)\n",
      "INFO:tensorflow:global_step/sec: 284.484\n",
      "INFO:tensorflow:loss = 16.713776, step = 6500 (0.351 sec)\n",
      "INFO:tensorflow:global_step/sec: 287.094\n",
      "INFO:tensorflow:loss = 26.11205, step = 6600 (0.348 sec)\n",
      "INFO:tensorflow:global_step/sec: 273.63\n",
      "INFO:tensorflow:loss = 19.42825, step = 6700 (0.365 sec)\n",
      "INFO:tensorflow:global_step/sec: 281.846\n",
      "INFO:tensorflow:loss = 15.171411, step = 6800 (0.355 sec)\n",
      "INFO:tensorflow:Saving checkpoints for 6825 into /var/folders/xm/rvswt1sx4rdf56_wpqz5rt4c0000gn/T/tmp3jd07rzn/model.ckpt.\n",
      "INFO:tensorflow:Loss for final step: 33.55196.\n"
     ]
    },
    {
     "data": {
      "text/plain": [
       "<tensorflow_estimator.python.estimator.canned.dnn.DNNRegressorV2 at 0x1a39756a90>"
      ]
     },
     "execution_count": 84,
     "metadata": {},
     "output_type": "execute_result"
    }
   ],
   "source": [
    "dense.train(input_fn=train_fn, steps=None)"
   ]
  },
  {
   "cell_type": "code",
   "execution_count": 85,
   "metadata": {},
   "outputs": [
    {
     "name": "stdout",
     "output_type": "stream",
     "text": [
      "INFO:tensorflow:Calling model_fn.\n",
      "WARNING:tensorflow:Layer dnn is casting an input tensor from dtype float64 to the layer's dtype of float32, which is new behavior in TensorFlow 2.  The layer has dtype float32 because it's dtype defaults to floatx.\n",
      "\n",
      "If you intended to run this layer in float32, you can safely ignore this warning. If in doubt, this warning is likely only an issue if you are porting a TensorFlow 1.X model to TensorFlow 2.\n",
      "\n",
      "To change all layers to have dtype float64 by default, call `tf.keras.backend.set_floatx('float64')`. To change just this layer, pass dtype='float64' to the layer constructor. If you are the author of this layer, you can disable autocasting by passing autocast=False to the base Layer constructor.\n",
      "\n",
      "INFO:tensorflow:Done calling model_fn.\n",
      "INFO:tensorflow:Starting evaluation at 2020-04-22T15:51:57Z\n",
      "INFO:tensorflow:Graph was finalized.\n",
      "INFO:tensorflow:Restoring parameters from /var/folders/xm/rvswt1sx4rdf56_wpqz5rt4c0000gn/T/tmp3jd07rzn/model.ckpt-6825\n",
      "INFO:tensorflow:Running local_init_op.\n",
      "INFO:tensorflow:Done running local_init_op.\n",
      "INFO:tensorflow:Finished evaluation at 2020-04-22-15:51:58\n",
      "INFO:tensorflow:Saving dict for global step 6825: average_loss = 24.925728, global_step = 6825, label/mean = 10.078173, loss = 24.914385, prediction/mean = 10.093367\n",
      "INFO:tensorflow:Saving 'checkpoint_path' summary for global step 6825: /var/folders/xm/rvswt1sx4rdf56_wpqz5rt4c0000gn/T/tmp3jd07rzn/model.ckpt-6825\n"
     ]
    }
   ],
   "source": [
    "dense_evaluation = dense.evaluate(input_fn=eval_fn)"
   ]
  },
  {
   "cell_type": "code",
   "execution_count": 86,
   "metadata": {},
   "outputs": [
    {
     "name": "stdout",
     "output_type": "stream",
     "text": [
      "{'average_loss': 24.925728, 'label/mean': 10.078173, 'loss': 24.914385, 'prediction/mean': 10.093367, 'global_step': 6825}\n"
     ]
    }
   ],
   "source": [
    "print(dense_evaluation)"
   ]
  },
  {
   "cell_type": "code",
   "execution_count": 87,
   "metadata": {},
   "outputs": [
    {
     "name": "stdout",
     "output_type": "stream",
     "text": [
      "INFO:tensorflow:Calling model_fn.\n",
      "WARNING:tensorflow:Layer dnn is casting an input tensor from dtype float64 to the layer's dtype of float32, which is new behavior in TensorFlow 2.  The layer has dtype float32 because it's dtype defaults to floatx.\n",
      "\n",
      "If you intended to run this layer in float32, you can safely ignore this warning. If in doubt, this warning is likely only an issue if you are porting a TensorFlow 1.X model to TensorFlow 2.\n",
      "\n",
      "To change all layers to have dtype float64 by default, call `tf.keras.backend.set_floatx('float64')`. To change just this layer, pass dtype='float64' to the layer constructor. If you are the author of this layer, you can disable autocasting by passing autocast=False to the base Layer constructor.\n",
      "\n",
      "INFO:tensorflow:Done calling model_fn.\n",
      "INFO:tensorflow:Graph was finalized.\n",
      "INFO:tensorflow:Restoring parameters from /var/folders/xm/rvswt1sx4rdf56_wpqz5rt4c0000gn/T/tmp3jd07rzn/model.ckpt-6825\n",
      "INFO:tensorflow:Running local_init_op.\n",
      "INFO:tensorflow:Done running local_init_op.\n"
     ]
    }
   ],
   "source": [
    "p = dense.predict(input_fn = eval_fn)\n",
    "preds = np.array([item['predictions'][0] for item in p])\n",
    "_c = pd.DataFrame({'actual': val[['fare_amount']].values.reshape(-1), 'prediction': preds.reshape(-1)})"
   ]
  },
  {
   "cell_type": "code",
   "execution_count": 88,
   "metadata": {},
   "outputs": [
    {
     "data": {
      "text/html": [
       "<div>\n",
       "<style scoped>\n",
       "    .dataframe tbody tr th:only-of-type {\n",
       "        vertical-align: middle;\n",
       "    }\n",
       "\n",
       "    .dataframe tbody tr th {\n",
       "        vertical-align: top;\n",
       "    }\n",
       "\n",
       "    .dataframe thead th {\n",
       "        text-align: right;\n",
       "    }\n",
       "</style>\n",
       "<table border=\"1\" class=\"dataframe\">\n",
       "  <thead>\n",
       "    <tr style=\"text-align: right;\">\n",
       "      <th></th>\n",
       "      <th>actual</th>\n",
       "      <th>prediction</th>\n",
       "    </tr>\n",
       "  </thead>\n",
       "  <tbody>\n",
       "    <tr>\n",
       "      <td>0</td>\n",
       "      <td>5.3</td>\n",
       "      <td>8.076780</td>\n",
       "    </tr>\n",
       "    <tr>\n",
       "      <td>1</td>\n",
       "      <td>7.0</td>\n",
       "      <td>13.595176</td>\n",
       "    </tr>\n",
       "    <tr>\n",
       "      <td>2</td>\n",
       "      <td>11.5</td>\n",
       "      <td>8.504304</td>\n",
       "    </tr>\n",
       "    <tr>\n",
       "      <td>3</td>\n",
       "      <td>5.5</td>\n",
       "      <td>7.975273</td>\n",
       "    </tr>\n",
       "    <tr>\n",
       "      <td>4</td>\n",
       "      <td>5.3</td>\n",
       "      <td>8.014244</td>\n",
       "    </tr>\n",
       "  </tbody>\n",
       "</table>\n",
       "</div>"
      ],
      "text/plain": [
       "   actual  prediction\n",
       "0     5.3    8.076780\n",
       "1     7.0   13.595176\n",
       "2    11.5    8.504304\n",
       "3     5.5    7.975273\n",
       "4     5.3    8.014244"
      ]
     },
     "execution_count": 88,
     "metadata": {},
     "output_type": "execute_result"
    }
   ],
   "source": [
    "_c.head()"
   ]
  },
  {
   "cell_type": "code",
   "execution_count": 89,
   "metadata": {},
   "outputs": [
    {
     "name": "stdout",
     "output_type": "stream",
     "text": [
      "MSE: 24.925729059525974\n"
     ]
    }
   ],
   "source": [
    "print('MSE: {}'.format(mean_squared_error(val[['fare_amount']].values.reshape(-1), preds.reshape(-1))))"
   ]
  },
  {
   "cell_type": "markdown",
   "metadata": {},
   "source": [
    "## Combine the models"
   ]
  },
  {
   "cell_type": "code",
   "execution_count": 90,
   "metadata": {},
   "outputs": [
    {
     "name": "stdout",
     "output_type": "stream",
     "text": [
      "INFO:tensorflow:Using default config.\n",
      "WARNING:tensorflow:Using temporary folder as model directory: /var/folders/xm/rvswt1sx4rdf56_wpqz5rt4c0000gn/T/tmpd_uh8jsd\n",
      "INFO:tensorflow:Using config: {'_model_dir': '/var/folders/xm/rvswt1sx4rdf56_wpqz5rt4c0000gn/T/tmpd_uh8jsd', '_tf_random_seed': None, '_save_summary_steps': 100, '_save_checkpoints_steps': None, '_save_checkpoints_secs': 600, '_session_config': allow_soft_placement: true\n",
      "graph_options {\n",
      "  rewrite_options {\n",
      "    meta_optimizer_iterations: ONE\n",
      "  }\n",
      "}\n",
      ", '_keep_checkpoint_max': 5, '_keep_checkpoint_every_n_hours': 10000, '_log_step_count_steps': 100, '_train_distribute': None, '_device_fn': None, '_protocol': None, '_eval_distribute': None, '_experimental_distribute': None, '_experimental_max_worker_delay_secs': None, '_session_creation_timeout_secs': 7200, '_service': None, '_cluster_spec': <tensorflow.python.training.server_lib.ClusterSpec object at 0x1a395d2d90>, '_task_type': 'worker', '_task_id': 0, '_global_id_in_cluster': 0, '_master': '', '_evaluation_master': '', '_is_chief': True, '_num_ps_replicas': 0, '_num_worker_replicas': 1}\n"
     ]
    }
   ],
   "source": [
    "combined = tf.estimator.DNNLinearCombinedRegressor(\n",
    "    #Linear Model also called Wide\n",
    "    linear_feature_columns=feature_columns,\n",
    "    \n",
    "    #DNN\n",
    "    dnn_feature_columns=dense_columns,\n",
    "    dnn_hidden_units=[512,512]\n",
    ")"
   ]
  },
  {
   "cell_type": "code",
   "execution_count": 91,
   "metadata": {},
   "outputs": [
    {
     "name": "stdout",
     "output_type": "stream",
     "text": [
      "INFO:tensorflow:Calling model_fn.\n",
      "WARNING:tensorflow:Layer dnn is casting an input tensor from dtype float64 to the layer's dtype of float32, which is new behavior in TensorFlow 2.  The layer has dtype float32 because it's dtype defaults to floatx.\n",
      "\n",
      "If you intended to run this layer in float32, you can safely ignore this warning. If in doubt, this warning is likely only an issue if you are porting a TensorFlow 1.X model to TensorFlow 2.\n",
      "\n",
      "To change all layers to have dtype float64 by default, call `tf.keras.backend.set_floatx('float64')`. To change just this layer, pass dtype='float64' to the layer constructor. If you are the author of this layer, you can disable autocasting by passing autocast=False to the base Layer constructor.\n",
      "\n",
      "WARNING:tensorflow:Layer linear/linear_model is casting an input tensor from dtype float64 to the layer's dtype of float32, which is new behavior in TensorFlow 2.  The layer has dtype float32 because it's dtype defaults to floatx.\n",
      "\n",
      "If you intended to run this layer in float32, you can safely ignore this warning. If in doubt, this warning is likely only an issue if you are porting a TensorFlow 1.X model to TensorFlow 2.\n",
      "\n",
      "To change all layers to have dtype float64 by default, call `tf.keras.backend.set_floatx('float64')`. To change just this layer, pass dtype='float64' to the layer constructor. If you are the author of this layer, you can disable autocasting by passing autocast=False to the base Layer constructor.\n",
      "\n",
      "INFO:tensorflow:Done calling model_fn.\n",
      "INFO:tensorflow:Create CheckpointSaverHook.\n",
      "INFO:tensorflow:Graph was finalized.\n",
      "INFO:tensorflow:Running local_init_op.\n",
      "INFO:tensorflow:Done running local_init_op.\n",
      "INFO:tensorflow:Saving checkpoints for 0 into /var/folders/xm/rvswt1sx4rdf56_wpqz5rt4c0000gn/T/tmpd_uh8jsd/model.ckpt.\n",
      "INFO:tensorflow:loss = 160.21262, step = 0\n",
      "INFO:tensorflow:global_step/sec: 55.2415\n",
      "INFO:tensorflow:loss = 78.61087, step = 100 (1.811 sec)\n",
      "INFO:tensorflow:global_step/sec: 91.8196\n",
      "INFO:tensorflow:loss = 37.308853, step = 200 (1.089 sec)\n",
      "INFO:tensorflow:global_step/sec: 94.1106\n",
      "INFO:tensorflow:loss = 43.151268, step = 300 (1.062 sec)\n",
      "INFO:tensorflow:global_step/sec: 92.2215\n",
      "INFO:tensorflow:loss = 15.999573, step = 400 (1.085 sec)\n",
      "INFO:tensorflow:global_step/sec: 93.0987\n",
      "INFO:tensorflow:loss = 19.876972, step = 500 (1.074 sec)\n",
      "INFO:tensorflow:global_step/sec: 93.1391\n",
      "INFO:tensorflow:loss = 29.362818, step = 600 (1.074 sec)\n",
      "INFO:tensorflow:global_step/sec: 69.9552\n",
      "INFO:tensorflow:loss = 20.487495, step = 700 (1.430 sec)\n",
      "INFO:tensorflow:global_step/sec: 71.2654\n",
      "INFO:tensorflow:loss = 19.62904, step = 800 (1.403 sec)\n",
      "INFO:tensorflow:global_step/sec: 83.3812\n",
      "INFO:tensorflow:loss = 38.628536, step = 900 (1.200 sec)\n",
      "INFO:tensorflow:global_step/sec: 90.3321\n",
      "INFO:tensorflow:loss = 20.334484, step = 1000 (1.106 sec)\n",
      "INFO:tensorflow:global_step/sec: 88.8628\n",
      "INFO:tensorflow:loss = 19.749653, step = 1100 (1.125 sec)\n",
      "INFO:tensorflow:global_step/sec: 92.9296\n",
      "INFO:tensorflow:loss = 23.724663, step = 1200 (1.076 sec)\n",
      "INFO:tensorflow:global_step/sec: 92.9145\n",
      "INFO:tensorflow:loss = 21.296612, step = 1300 (1.076 sec)\n",
      "INFO:tensorflow:global_step/sec: 72.0139\n",
      "INFO:tensorflow:loss = 10.941061, step = 1400 (1.389 sec)\n",
      "INFO:tensorflow:global_step/sec: 95.9488\n",
      "INFO:tensorflow:loss = 17.874035, step = 1500 (1.042 sec)\n",
      "INFO:tensorflow:global_step/sec: 90.2837\n",
      "INFO:tensorflow:loss = 20.442598, step = 1600 (1.108 sec)\n",
      "INFO:tensorflow:global_step/sec: 92.8079\n",
      "INFO:tensorflow:loss = 21.863037, step = 1700 (1.077 sec)\n",
      "INFO:tensorflow:global_step/sec: 91.8384\n",
      "INFO:tensorflow:loss = 10.821832, step = 1800 (1.089 sec)\n",
      "INFO:tensorflow:global_step/sec: 92.4837\n",
      "INFO:tensorflow:loss = 12.592337, step = 1900 (1.081 sec)\n",
      "INFO:tensorflow:global_step/sec: 87.963\n",
      "INFO:tensorflow:loss = 23.141895, step = 2000 (1.137 sec)\n",
      "INFO:tensorflow:global_step/sec: 91.1483\n",
      "INFO:tensorflow:loss = 13.025972, step = 2100 (1.097 sec)\n",
      "INFO:tensorflow:global_step/sec: 91.3774\n",
      "INFO:tensorflow:loss = 16.511717, step = 2200 (1.095 sec)\n",
      "INFO:tensorflow:global_step/sec: 90.8605\n",
      "INFO:tensorflow:loss = 11.176617, step = 2300 (1.103 sec)\n",
      "INFO:tensorflow:global_step/sec: 87.7544\n",
      "INFO:tensorflow:loss = 25.897263, step = 2400 (1.137 sec)\n",
      "INFO:tensorflow:global_step/sec: 91.7574\n",
      "INFO:tensorflow:loss = 14.295637, step = 2500 (1.090 sec)\n",
      "INFO:tensorflow:global_step/sec: 95.3793\n",
      "INFO:tensorflow:loss = 15.351683, step = 2600 (1.049 sec)\n",
      "INFO:tensorflow:global_step/sec: 94.5595\n",
      "INFO:tensorflow:loss = 9.039019, step = 2700 (1.057 sec)\n",
      "INFO:tensorflow:global_step/sec: 71.5961\n",
      "INFO:tensorflow:loss = 19.584026, step = 2800 (1.397 sec)\n",
      "INFO:tensorflow:global_step/sec: 93.8117\n",
      "INFO:tensorflow:loss = 24.66481, step = 2900 (1.066 sec)\n",
      "INFO:tensorflow:global_step/sec: 91.2895\n",
      "INFO:tensorflow:loss = 9.129192, step = 3000 (1.095 sec)\n",
      "INFO:tensorflow:global_step/sec: 93.6741\n",
      "INFO:tensorflow:loss = 7.6653004, step = 3100 (1.068 sec)\n",
      "INFO:tensorflow:global_step/sec: 94.046\n",
      "INFO:tensorflow:loss = 21.253641, step = 3200 (1.063 sec)\n",
      "INFO:tensorflow:global_step/sec: 89.6518\n",
      "INFO:tensorflow:loss = 14.112028, step = 3300 (1.115 sec)\n",
      "INFO:tensorflow:global_step/sec: 90.6787\n",
      "INFO:tensorflow:loss = 17.542774, step = 3400 (1.103 sec)\n",
      "INFO:tensorflow:global_step/sec: 92.2609\n",
      "INFO:tensorflow:loss = 17.888649, step = 3500 (1.084 sec)\n",
      "INFO:tensorflow:global_step/sec: 92.5862\n",
      "INFO:tensorflow:loss = 15.667112, step = 3600 (1.080 sec)\n",
      "INFO:tensorflow:global_step/sec: 92.9356\n",
      "INFO:tensorflow:loss = 20.88089, step = 3700 (1.076 sec)\n",
      "INFO:tensorflow:global_step/sec: 89.2994\n",
      "INFO:tensorflow:loss = 16.967474, step = 3800 (1.120 sec)\n",
      "INFO:tensorflow:global_step/sec: 91.2873\n",
      "INFO:tensorflow:loss = 13.545017, step = 3900 (1.096 sec)\n",
      "INFO:tensorflow:global_step/sec: 91.3306\n",
      "INFO:tensorflow:loss = 17.555218, step = 4000 (1.095 sec)\n",
      "INFO:tensorflow:global_step/sec: 71.192\n",
      "INFO:tensorflow:loss = 13.69968, step = 4100 (1.405 sec)\n",
      "INFO:tensorflow:global_step/sec: 95.8589\n",
      "INFO:tensorflow:loss = 20.701511, step = 4200 (1.044 sec)\n",
      "INFO:tensorflow:global_step/sec: 92.8188\n",
      "INFO:tensorflow:loss = 15.67947, step = 4300 (1.077 sec)\n",
      "INFO:tensorflow:global_step/sec: 92.6441\n",
      "INFO:tensorflow:loss = 11.090607, step = 4400 (1.079 sec)\n",
      "INFO:tensorflow:global_step/sec: 92.9891\n",
      "INFO:tensorflow:loss = 31.074543, step = 4500 (1.076 sec)\n",
      "INFO:tensorflow:global_step/sec: 88.237\n",
      "INFO:tensorflow:loss = 13.537466, step = 4600 (1.133 sec)\n",
      "INFO:tensorflow:global_step/sec: 74.699\n",
      "INFO:tensorflow:loss = 13.696994, step = 4700 (1.339 sec)\n",
      "INFO:tensorflow:global_step/sec: 69.7627\n",
      "INFO:tensorflow:loss = 32.661026, step = 4800 (1.434 sec)\n",
      "INFO:tensorflow:global_step/sec: 65.46\n",
      "INFO:tensorflow:loss = 21.369484, step = 4900 (1.528 sec)\n",
      "INFO:tensorflow:global_step/sec: 57.0763\n",
      "INFO:tensorflow:loss = 14.384191, step = 5000 (1.753 sec)\n",
      "INFO:tensorflow:global_step/sec: 52.4771\n",
      "INFO:tensorflow:loss = 10.9160385, step = 5100 (1.905 sec)\n",
      "INFO:tensorflow:global_step/sec: 52.8025\n",
      "INFO:tensorflow:loss = 23.701576, step = 5200 (1.895 sec)\n",
      "INFO:tensorflow:global_step/sec: 56.3469\n",
      "INFO:tensorflow:loss = 8.066227, step = 5300 (1.774 sec)\n",
      "INFO:tensorflow:global_step/sec: 64.0645\n",
      "INFO:tensorflow:loss = 7.6854134, step = 5400 (1.560 sec)\n",
      "INFO:tensorflow:global_step/sec: 52.7621\n",
      "INFO:tensorflow:loss = 14.165756, step = 5500 (1.895 sec)\n",
      "INFO:tensorflow:global_step/sec: 78.3969\n",
      "INFO:tensorflow:loss = 12.468348, step = 5600 (1.275 sec)\n",
      "INFO:tensorflow:global_step/sec: 84.1992\n",
      "INFO:tensorflow:loss = 17.769304, step = 5700 (1.188 sec)\n",
      "INFO:tensorflow:global_step/sec: 87.6972\n",
      "INFO:tensorflow:loss = 20.120811, step = 5800 (1.140 sec)\n",
      "INFO:tensorflow:global_step/sec: 83.3973\n",
      "INFO:tensorflow:loss = 17.556992, step = 5900 (1.199 sec)\n",
      "INFO:tensorflow:global_step/sec: 86.3387\n",
      "INFO:tensorflow:loss = 12.32601, step = 6000 (1.158 sec)\n",
      "INFO:tensorflow:global_step/sec: 89.0121\n",
      "INFO:tensorflow:loss = 13.420794, step = 6100 (1.123 sec)\n",
      "INFO:tensorflow:global_step/sec: 89.6608\n",
      "INFO:tensorflow:loss = 11.507807, step = 6200 (1.115 sec)\n",
      "INFO:tensorflow:global_step/sec: 83.8096\n",
      "INFO:tensorflow:loss = 14.585112, step = 6300 (1.193 sec)\n",
      "INFO:tensorflow:global_step/sec: 86.1176\n",
      "INFO:tensorflow:loss = 29.892132, step = 6400 (1.161 sec)\n",
      "INFO:tensorflow:global_step/sec: 85.4805\n",
      "INFO:tensorflow:loss = 23.422665, step = 6500 (1.170 sec)\n"
     ]
    },
    {
     "name": "stdout",
     "output_type": "stream",
     "text": [
      "INFO:tensorflow:global_step/sec: 81.285\n",
      "INFO:tensorflow:loss = 16.588932, step = 6600 (1.230 sec)\n",
      "INFO:tensorflow:global_step/sec: 77.2839\n",
      "INFO:tensorflow:loss = 8.375839, step = 6700 (1.294 sec)\n",
      "INFO:tensorflow:global_step/sec: 82.1491\n",
      "INFO:tensorflow:loss = 10.846728, step = 6800 (1.217 sec)\n",
      "INFO:tensorflow:Saving checkpoints for 6825 into /var/folders/xm/rvswt1sx4rdf56_wpqz5rt4c0000gn/T/tmpd_uh8jsd/model.ckpt.\n",
      "INFO:tensorflow:Loss for final step: 12.000773.\n"
     ]
    },
    {
     "data": {
      "text/plain": [
       "<tensorflow_estimator.python.estimator.canned.dnn_linear_combined.DNNLinearCombinedRegressorV2 at 0x1a395d2910>"
      ]
     },
     "execution_count": 91,
     "metadata": {},
     "output_type": "execute_result"
    }
   ],
   "source": [
    "combined.train(input_fn=train_fn, steps=None)"
   ]
  },
  {
   "cell_type": "code",
   "execution_count": 92,
   "metadata": {},
   "outputs": [
    {
     "name": "stdout",
     "output_type": "stream",
     "text": [
      "INFO:tensorflow:Calling model_fn.\n",
      "WARNING:tensorflow:Layer dnn is casting an input tensor from dtype float64 to the layer's dtype of float32, which is new behavior in TensorFlow 2.  The layer has dtype float32 because it's dtype defaults to floatx.\n",
      "\n",
      "If you intended to run this layer in float32, you can safely ignore this warning. If in doubt, this warning is likely only an issue if you are porting a TensorFlow 1.X model to TensorFlow 2.\n",
      "\n",
      "To change all layers to have dtype float64 by default, call `tf.keras.backend.set_floatx('float64')`. To change just this layer, pass dtype='float64' to the layer constructor. If you are the author of this layer, you can disable autocasting by passing autocast=False to the base Layer constructor.\n",
      "\n",
      "WARNING:tensorflow:Layer linear/linear_model is casting an input tensor from dtype float64 to the layer's dtype of float32, which is new behavior in TensorFlow 2.  The layer has dtype float32 because it's dtype defaults to floatx.\n",
      "\n",
      "If you intended to run this layer in float32, you can safely ignore this warning. If in doubt, this warning is likely only an issue if you are porting a TensorFlow 1.X model to TensorFlow 2.\n",
      "\n",
      "To change all layers to have dtype float64 by default, call `tf.keras.backend.set_floatx('float64')`. To change just this layer, pass dtype='float64' to the layer constructor. If you are the author of this layer, you can disable autocasting by passing autocast=False to the base Layer constructor.\n",
      "\n",
      "INFO:tensorflow:Done calling model_fn.\n",
      "INFO:tensorflow:Starting evaluation at 2020-04-22T15:55:03Z\n",
      "INFO:tensorflow:Graph was finalized.\n",
      "INFO:tensorflow:Restoring parameters from /var/folders/xm/rvswt1sx4rdf56_wpqz5rt4c0000gn/T/tmpd_uh8jsd/model.ckpt-6825\n",
      "INFO:tensorflow:Running local_init_op.\n",
      "INFO:tensorflow:Done running local_init_op.\n",
      "INFO:tensorflow:Finished evaluation at 2020-04-22-15:55:30\n",
      "INFO:tensorflow:Saving dict for global step 6825: average_loss = 14.276212, global_step = 6825, label/mean = 10.125894, loss = 14.276145, prediction/mean = 10.028596\n",
      "INFO:tensorflow:Saving 'checkpoint_path' summary for global step 6825: /var/folders/xm/rvswt1sx4rdf56_wpqz5rt4c0000gn/T/tmpd_uh8jsd/model.ckpt-6825\n",
      "{'average_loss': 14.276212, 'label/mean': 10.125894, 'loss': 14.276145, 'prediction/mean': 10.028596, 'global_step': 6825}\n"
     ]
    }
   ],
   "source": [
    "print(combined.evaluate(input_fn=train_fn))"
   ]
  },
  {
   "cell_type": "code",
   "execution_count": 93,
   "metadata": {},
   "outputs": [
    {
     "name": "stdout",
     "output_type": "stream",
     "text": [
      "INFO:tensorflow:Calling model_fn.\n",
      "WARNING:tensorflow:Layer dnn is casting an input tensor from dtype float64 to the layer's dtype of float32, which is new behavior in TensorFlow 2.  The layer has dtype float32 because it's dtype defaults to floatx.\n",
      "\n",
      "If you intended to run this layer in float32, you can safely ignore this warning. If in doubt, this warning is likely only an issue if you are porting a TensorFlow 1.X model to TensorFlow 2.\n",
      "\n",
      "To change all layers to have dtype float64 by default, call `tf.keras.backend.set_floatx('float64')`. To change just this layer, pass dtype='float64' to the layer constructor. If you are the author of this layer, you can disable autocasting by passing autocast=False to the base Layer constructor.\n",
      "\n",
      "WARNING:tensorflow:Layer linear/linear_model is casting an input tensor from dtype float64 to the layer's dtype of float32, which is new behavior in TensorFlow 2.  The layer has dtype float32 because it's dtype defaults to floatx.\n",
      "\n",
      "If you intended to run this layer in float32, you can safely ignore this warning. If in doubt, this warning is likely only an issue if you are porting a TensorFlow 1.X model to TensorFlow 2.\n",
      "\n",
      "To change all layers to have dtype float64 by default, call `tf.keras.backend.set_floatx('float64')`. To change just this layer, pass dtype='float64' to the layer constructor. If you are the author of this layer, you can disable autocasting by passing autocast=False to the base Layer constructor.\n",
      "\n",
      "INFO:tensorflow:Done calling model_fn.\n",
      "INFO:tensorflow:Graph was finalized.\n",
      "INFO:tensorflow:Restoring parameters from /var/folders/xm/rvswt1sx4rdf56_wpqz5rt4c0000gn/T/tmpd_uh8jsd/model.ckpt-6825\n",
      "INFO:tensorflow:Running local_init_op.\n",
      "INFO:tensorflow:Done running local_init_op.\n"
     ]
    }
   ],
   "source": [
    "p = combined.predict(input_fn = eval_fn)\n",
    "preds = np.array([item['predictions'][0] for item in p])\n",
    "_c = pd.DataFrame({'actual': val[['fare_amount']].values.reshape(-1), 'prediction': preds.reshape(-1)})"
   ]
  },
  {
   "cell_type": "code",
   "execution_count": 94,
   "metadata": {},
   "outputs": [
    {
     "data": {
      "text/html": [
       "<div>\n",
       "<style scoped>\n",
       "    .dataframe tbody tr th:only-of-type {\n",
       "        vertical-align: middle;\n",
       "    }\n",
       "\n",
       "    .dataframe tbody tr th {\n",
       "        vertical-align: top;\n",
       "    }\n",
       "\n",
       "    .dataframe thead th {\n",
       "        text-align: right;\n",
       "    }\n",
       "</style>\n",
       "<table border=\"1\" class=\"dataframe\">\n",
       "  <thead>\n",
       "    <tr style=\"text-align: right;\">\n",
       "      <th></th>\n",
       "      <th>actual</th>\n",
       "      <th>prediction</th>\n",
       "    </tr>\n",
       "  </thead>\n",
       "  <tbody>\n",
       "    <tr>\n",
       "      <td>0</td>\n",
       "      <td>5.3</td>\n",
       "      <td>5.807065</td>\n",
       "    </tr>\n",
       "    <tr>\n",
       "      <td>1</td>\n",
       "      <td>7.0</td>\n",
       "      <td>10.740663</td>\n",
       "    </tr>\n",
       "    <tr>\n",
       "      <td>2</td>\n",
       "      <td>11.5</td>\n",
       "      <td>10.835695</td>\n",
       "    </tr>\n",
       "    <tr>\n",
       "      <td>3</td>\n",
       "      <td>5.5</td>\n",
       "      <td>5.799201</td>\n",
       "    </tr>\n",
       "    <tr>\n",
       "      <td>4</td>\n",
       "      <td>5.3</td>\n",
       "      <td>6.721664</td>\n",
       "    </tr>\n",
       "  </tbody>\n",
       "</table>\n",
       "</div>"
      ],
      "text/plain": [
       "   actual  prediction\n",
       "0     5.3    5.807065\n",
       "1     7.0   10.740663\n",
       "2    11.5   10.835695\n",
       "3     5.5    5.799201\n",
       "4     5.3    6.721664"
      ]
     },
     "execution_count": 94,
     "metadata": {},
     "output_type": "execute_result"
    }
   ],
   "source": [
    "_c.head()"
   ]
  },
  {
   "cell_type": "code",
   "execution_count": 95,
   "metadata": {},
   "outputs": [
    {
     "name": "stdout",
     "output_type": "stream",
     "text": [
      "MSE: 15.310430079120882\n"
     ]
    }
   ],
   "source": [
    "print('MSE: {}'.format(mean_squared_error(val[['fare_amount']].values.reshape(-1), preds.reshape(-1))))"
   ]
  },
  {
   "cell_type": "markdown",
   "metadata": {},
   "source": [
    "# number of parameters we were dealing with"
   ]
  },
  {
   "cell_type": "code",
   "execution_count": 96,
   "metadata": {},
   "outputs": [
    {
     "name": "stdout",
     "output_type": "stream",
     "text": [
      "Model: \"sequential_3\"\n",
      "_________________________________________________________________\n",
      "Layer (type)                 Output Shape              Param #   \n",
      "=================================================================\n",
      "dense_8 (Dense)              (None, 512)               59392512  \n",
      "_________________________________________________________________\n",
      "dense_9 (Dense)              (None, 512)               262656    \n",
      "_________________________________________________________________\n",
      "dense_10 (Dense)             (None, 1)                 513       \n",
      "=================================================================\n",
      "Total params: 59,655,681\n",
      "Trainable params: 59,655,681\n",
      "Non-trainable params: 0\n",
      "_________________________________________________________________\n",
      "None\n"
     ]
    }
   ],
   "source": [
    "d = keras.Sequential([\n",
    "    keras.layers.Dense(512, input_shape=(116000, ), activation='relu'),\n",
    "    keras.layers.Dense(512, activation='relu'),\n",
    "    keras.layers.Dense(1)\n",
    "])\n",
    "print(d.summary())"
   ]
  },
  {
   "cell_type": "code",
   "execution_count": null,
   "metadata": {},
   "outputs": [],
   "source": []
  }
 ],
 "metadata": {
  "kernelspec": {
   "display_name": "Python 3",
   "language": "python",
   "name": "python3"
  },
  "language_info": {
   "codemirror_mode": {
    "name": "ipython",
    "version": 3
   },
   "file_extension": ".py",
   "mimetype": "text/x-python",
   "name": "python",
   "nbconvert_exporter": "python",
   "pygments_lexer": "ipython3",
   "version": "3.7.4"
  }
 },
 "nbformat": 4,
 "nbformat_minor": 2
}
