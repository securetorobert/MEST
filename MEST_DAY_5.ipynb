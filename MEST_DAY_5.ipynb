{
 "cells": [
  {
   "cell_type": "markdown",
   "metadata": {
    "colab_type": "text",
    "id": "n56nI9Vu-LXS"
   },
   "source": [
    "# MEST DAY 5"
   ]
  },
  {
   "cell_type": "markdown",
   "metadata": {
    "colab_type": "text",
    "id": "omhVB-kS-ONF"
   },
   "source": [
    "## Morning Session\n",
    "### Sequence Models - Time Series Data - RNN - GRU - LSTM"
   ]
  },
  {
   "cell_type": "code",
   "execution_count": null,
   "metadata": {
    "colab": {
     "base_uri": "https://localhost:8080/",
     "height": 523
    },
    "colab_type": "code",
    "id": "lNO-Ovt3yK3h",
    "outputId": "7288871e-8621-4f95-c377-8f0052eb1ed2"
   },
   "outputs": [],
   "source": [
    "!pip install tensorflow-gpu==2.0.0.beta0"
   ]
  },
  {
   "cell_type": "code",
   "execution_count": null,
   "metadata": {
    "colab": {
     "base_uri": "https://localhost:8080/",
     "height": 55
    },
    "colab_type": "code",
    "id": "wNM54FCKyzo6",
    "outputId": "125a86ea-1547-4915-9895-5af5c75538fd"
   },
   "outputs": [],
   "source": [
    "#this version of numpy is required to avoid an error related to numpy defaulting to not allowing pickle files\n",
    "!pip install numpy==1.16.2"
   ]
  },
  {
   "cell_type": "code",
   "execution_count": null,
   "metadata": {
    "colab": {
     "base_uri": "https://localhost:8080/",
     "height": 124
    },
    "colab_type": "code",
    "id": "FVocKHb2y_qE",
    "outputId": "94a94a40-0072-4918-9230-ae45bc6d5944"
   },
   "outputs": [],
   "source": [
    "!pip install pandas==0.24"
   ]
  },
  {
   "cell_type": "code",
   "execution_count": 1,
   "metadata": {
    "colab": {},
    "colab_type": "code",
    "id": "3OmloKEZzE-u"
   },
   "outputs": [],
   "source": [
    "import tensorflow as tf\n",
    "from tensorflow.keras import datasets, preprocessing, models, layers\n",
    "import numpy as np\n",
    "import pandas as pd"
   ]
  },
  {
   "cell_type": "code",
   "execution_count": null,
   "metadata": {
    "colab": {
     "base_uri": "https://localhost:8080/",
     "height": 35
    },
    "colab_type": "code",
    "id": "OLYTxYdDzM_2",
    "outputId": "2ed38ba7-adc2-4b55-c2de-72fec5a9e387"
   },
   "outputs": [],
   "source": [
    "from google.colab import drive\n",
    "drive.mount('/content/gdrive')"
   ]
  },
  {
   "cell_type": "code",
   "execution_count": null,
   "metadata": {
    "colab": {},
    "colab_type": "code",
    "id": "e54TX6p6zWXz"
   },
   "outputs": [],
   "source": [
    "df = pd.read_csv('/content/gdrive/My Drive/temperature/jena_climate_2009_2016.csv')"
   ]
  },
  {
   "cell_type": "code",
   "execution_count": null,
   "metadata": {
    "colab": {
     "base_uri": "https://localhost:8080/",
     "height": 364
    },
    "colab_type": "code",
    "id": "JdxPpg8TDxG1",
    "outputId": "881e3776-779b-4130-bfd0-0b855c79fab3"
   },
   "outputs": [],
   "source": [
    "df.info()"
   ]
  },
  {
   "cell_type": "code",
   "execution_count": null,
   "metadata": {
    "colab": {
     "base_uri": "https://localhost:8080/",
     "height": 202
    },
    "colab_type": "code",
    "id": "2u5FXV9-EEjM",
    "outputId": "2e3de36e-cc9a-422d-c895-d9435b882784"
   },
   "outputs": [],
   "source": [
    "df[['Date Time']].head()"
   ]
  },
  {
   "cell_type": "code",
   "execution_count": null,
   "metadata": {
    "colab": {},
    "colab_type": "code",
    "id": "FE7Mppi7zbQA"
   },
   "outputs": [],
   "source": [
    "df = df[['Date Time', 'T (degC)']]\n",
    "df['DateTime'] = pd.to_datetime(df['Date Time'], format=\"%d.%m.%Y %H:%M:%S\")"
   ]
  },
  {
   "cell_type": "code",
   "execution_count": null,
   "metadata": {
    "colab": {
     "base_uri": "https://localhost:8080/",
     "height": 202
    },
    "colab_type": "code",
    "id": "OyiN2UEqEPtf",
    "outputId": "1166baa6-c105-4d6f-daaa-85dbb9cb7a61"
   },
   "outputs": [],
   "source": [
    "df.head()"
   ]
  },
  {
   "cell_type": "code",
   "execution_count": null,
   "metadata": {
    "colab": {
     "base_uri": "https://localhost:8080/",
     "height": 1000
    },
    "colab_type": "code",
    "id": "98J7ihTv0ADR",
    "outputId": "66056136-2c11-4720-d99a-7af9d2a6243a"
   },
   "outputs": [],
   "source": [
    "df.set_index(['DateTime'])"
   ]
  },
  {
   "cell_type": "code",
   "execution_count": null,
   "metadata": {
    "colab": {
     "base_uri": "https://localhost:8080/",
     "height": 287
    },
    "colab_type": "code",
    "id": "QGEkzN5W0Tba",
    "outputId": "1e8726ce-3437-4fc9-891a-6fb5fe12206d"
   },
   "outputs": [],
   "source": [
    "df['T (degC)'].plot()"
   ]
  },
  {
   "cell_type": "markdown",
   "metadata": {
    "colab_type": "text",
    "id": "bmDVYRvL0IoW"
   },
   "source": [
    "### Extract Time Series DF"
   ]
  },
  {
   "cell_type": "code",
   "execution_count": null,
   "metadata": {
    "colab": {},
    "colab_type": "code",
    "id": "hEs5HFMp0K-w"
   },
   "outputs": [],
   "source": [
    "time_series_df = df.set_index(['DateTime'])"
   ]
  },
  {
   "cell_type": "code",
   "execution_count": null,
   "metadata": {
    "colab": {
     "base_uri": "https://localhost:8080/",
     "height": 159
    },
    "colab_type": "code",
    "id": "6vRd6c7b0O6f",
    "outputId": "7e3a3da5-7d85-481a-eb05-da18a10ffe22"
   },
   "outputs": [],
   "source": [
    "time_series_df.info()"
   ]
  },
  {
   "cell_type": "code",
   "execution_count": null,
   "metadata": {
    "colab": {},
    "colab_type": "code",
    "id": "dHBLJvb40VKU"
   },
   "outputs": [],
   "source": [
    "time_series_df.drop(['Date Time'], axis=1, inplace=True)"
   ]
  },
  {
   "cell_type": "markdown",
   "metadata": {
    "colab_type": "text",
    "id": "PZ38qwta0Z_2"
   },
   "source": [
    "### Resample to Mean Daily Temperature"
   ]
  },
  {
   "cell_type": "code",
   "execution_count": null,
   "metadata": {
    "colab": {
     "base_uri": "https://localhost:8080/",
     "height": 139
    },
    "colab_type": "code",
    "id": "WC6E7sif0c8o",
    "outputId": "3b6a233c-c7b1-4ebe-9b38-63d4fc45f6af"
   },
   "outputs": [],
   "source": [
    "mean_daily_temp = time_series_df.resample('D').mean()\n",
    "mean_daily_temp.info()"
   ]
  },
  {
   "cell_type": "markdown",
   "metadata": {
    "colab_type": "text",
    "id": "8Xh6R9ki0ln0"
   },
   "source": [
    "### Create Training and Test"
   ]
  },
  {
   "cell_type": "code",
   "execution_count": null,
   "metadata": {
    "colab": {},
    "colab_type": "code",
    "id": "8_Jx5TfN0niZ"
   },
   "outputs": [],
   "source": [
    "test_daily_temp = mean_daily_temp['2016']\n",
    "train_daily_temp = mean_daily_temp['2009':'2015']"
   ]
  },
  {
   "cell_type": "code",
   "execution_count": null,
   "metadata": {
    "colab": {
     "base_uri": "https://localhost:8080/",
     "height": 301
    },
    "colab_type": "code",
    "id": "xK24a7CR14ji",
    "outputId": "ea234e64-8dd8-4d8c-f903-4cedcd0c22be"
   },
   "outputs": [],
   "source": [
    "train_daily_temp['T (degC)'].plot()"
   ]
  },
  {
   "cell_type": "code",
   "execution_count": null,
   "metadata": {
    "colab": {
     "base_uri": "https://localhost:8080/",
     "height": 233
    },
    "colab_type": "code",
    "id": "hcBXr-OK2LeK",
    "outputId": "73388bea-8f35-44cc-8dee-f0ab6abc090c"
   },
   "outputs": [],
   "source": [
    "train_daily_temp.head()"
   ]
  },
  {
   "cell_type": "code",
   "execution_count": null,
   "metadata": {
    "colab": {},
    "colab_type": "code",
    "id": "ZcF0RP7K4pn2"
   },
   "outputs": [],
   "source": []
  },
  {
   "cell_type": "markdown",
   "metadata": {
    "colab_type": "text",
    "id": "JvVCrjk72Pyg"
   },
   "source": [
    "### Reset Index"
   ]
  },
  {
   "cell_type": "code",
   "execution_count": null,
   "metadata": {
    "colab": {},
    "colab_type": "code",
    "id": "xD0u6Q6B4qR9"
   },
   "outputs": [],
   "source": [
    "train_daily_temp.reset_index(inplace=True)\n",
    "train_daily_temp.reset_index(inplace=True)"
   ]
  },
  {
   "cell_type": "code",
   "execution_count": null,
   "metadata": {
    "colab": {
     "base_uri": "https://localhost:8080/",
     "height": 202
    },
    "colab_type": "code",
    "id": "5PoHjUM72SeC",
    "outputId": "8e0dcab4-4558-46b5-bdea-6af132f8edb2"
   },
   "outputs": [],
   "source": [
    "test_daily_temp.reset_index(inplace=True)\n",
    "test_daily_temp.reset_index(inplace=True)\n",
    "test_daily_temp.head()"
   ]
  },
  {
   "cell_type": "markdown",
   "metadata": {
    "colab_type": "text",
    "id": "GdUYneEf2aH8"
   },
   "source": [
    "### Extract Time Steps"
   ]
  },
  {
   "cell_type": "code",
   "execution_count": null,
   "metadata": {
    "colab": {},
    "colab_type": "code",
    "id": "6W2Z2VcB2cVX"
   },
   "outputs": [],
   "source": [
    "train_x = train_daily_temp[['index']].to_numpy()\n",
    "train_y = train_daily_temp[['T (degC)']].to_numpy()\n",
    "\n",
    "test_x = test_daily_temp[['index']].to_numpy()\n",
    "test_y = test_daily_temp[['T (degC)']].to_numpy()"
   ]
  },
  {
   "cell_type": "markdown",
   "metadata": {
    "colab_type": "text",
    "id": "O4u-51Ic2qxM"
   },
   "source": [
    "### Create a Generator"
   ]
  },
  {
   "cell_type": "code",
   "execution_count": null,
   "metadata": {
    "colab": {},
    "colab_type": "code",
    "id": "evfWGYTE20IW"
   },
   "outputs": [],
   "source": [
    "from tensorflow.keras.preprocessing.sequence import TimeseriesGenerator"
   ]
  },
  {
   "cell_type": "code",
   "execution_count": null,
   "metadata": {
    "colab": {},
    "colab_type": "code",
    "id": "SKC9sbLg21XV"
   },
   "outputs": [],
   "source": [
    "N_INPUT = 5\n",
    "BATCH_SIZE = 16"
   ]
  },
  {
   "cell_type": "code",
   "execution_count": null,
   "metadata": {
    "colab": {},
    "colab_type": "code",
    "id": "_NthbyyE3f3F"
   },
   "outputs": [],
   "source": [
    "train_gen = TimeseriesGenerator(train_x, train_y, length=N_INPUT, sampling_rate=7, batch_size=BATCH_SIZE)"
   ]
  },
  {
   "cell_type": "code",
   "execution_count": null,
   "metadata": {
    "colab": {},
    "colab_type": "code",
    "id": "Ka7QSOH-42Uw"
   },
   "outputs": [],
   "source": [
    "test_gen = TimeseriesGenerator(test_x, test_y, length=N_INPUT, sampling_rate=7, batch_size=BATCH_SIZE)"
   ]
  },
  {
   "cell_type": "markdown",
   "metadata": {
    "colab_type": "text",
    "id": "hRduMVH25WH6"
   },
   "source": [
    "### Inspect one item"
   ]
  },
  {
   "cell_type": "code",
   "execution_count": null,
   "metadata": {
    "colab": {
     "base_uri": "https://localhost:8080/",
     "height": 35
    },
    "colab_type": "code",
    "id": "1Ob7CUrw5YXL",
    "outputId": "4aeec82c-efcc-4b49-d3ee-e3cf32370be3"
   },
   "outputs": [],
   "source": [
    "batch_0 = train_gen[0]\n",
    "x, y = batch_0\n",
    "print(y.shape)"
   ]
  },
  {
   "cell_type": "code",
   "execution_count": null,
   "metadata": {
    "colab": {
     "base_uri": "https://localhost:8080/",
     "height": 35
    },
    "colab_type": "code",
    "id": "SBFW44CT5bIt",
    "outputId": "f75848ba-cdd6-47d7-a315-8900891732fb"
   },
   "outputs": [],
   "source": [
    "print(x.shape)"
   ]
  },
  {
   "cell_type": "markdown",
   "metadata": {
    "colab_type": "text",
    "id": "P-L3baTV5hT5"
   },
   "source": [
    "### Dense Model"
   ]
  },
  {
   "cell_type": "code",
   "execution_count": null,
   "metadata": {
    "colab": {
     "base_uri": "https://localhost:8080/",
     "height": 277
    },
    "colab_type": "code",
    "id": "Tlns8akX5jo-",
    "outputId": "34d1a438-1244-4ffb-b5e1-aa579a9b173a"
   },
   "outputs": [],
   "source": [
    "model = models.Sequential([\n",
    "    layers.Dense(100, input_shape=(x.shape[1], x.shape[2]), activation='relu'),\n",
    "    layers.Flatten(),\n",
    "    layers.Dense(1)\n",
    "])\n",
    "print(model.summary())"
   ]
  },
  {
   "cell_type": "code",
   "execution_count": null,
   "metadata": {
    "colab": {},
    "colab_type": "code",
    "id": "9kipsmFd5oCz"
   },
   "outputs": [],
   "source": [
    "model.compile(optimizer='adam', loss='mse')"
   ]
  },
  {
   "cell_type": "code",
   "execution_count": null,
   "metadata": {
    "colab": {
     "base_uri": "https://localhost:8080/",
     "height": 228
    },
    "colab_type": "code",
    "id": "JPIEPqk75tBw",
    "outputId": "b43b4cec-7ec4-469e-fcdf-b761d094dd88"
   },
   "outputs": [],
   "source": [
    "model.fit_generator(train_gen, epochs=5)"
   ]
  },
  {
   "cell_type": "code",
   "execution_count": null,
   "metadata": {
    "colab": {
     "base_uri": "https://localhost:8080/",
     "height": 35
    },
    "colab_type": "code",
    "id": "iXhQQGIN7xUO",
    "outputId": "298b3ce2-1f36-457a-a94a-74a6d637e8a2"
   },
   "outputs": [],
   "source": [
    "example = test_gen[0]\n",
    "x, y = example\n",
    "y_pred = model.predict(x)\n",
    "print('Actual: {} | Predicted: {}'.format(y[0], y_pred[0]))"
   ]
  },
  {
   "cell_type": "markdown",
   "metadata": {
    "colab_type": "text",
    "id": "Qnwbnhyx57lv"
   },
   "source": [
    "### Train an RNN"
   ]
  },
  {
   "cell_type": "code",
   "execution_count": null,
   "metadata": {
    "colab": {
     "base_uri": "https://localhost:8080/",
     "height": 243
    },
    "colab_type": "code",
    "id": "vKRyeHN55_I5",
    "outputId": "e972ea56-f5c6-4518-e329-9b7b9f67fe51"
   },
   "outputs": [],
   "source": [
    "rnn_model = models.Sequential([\n",
    "    layers.SimpleRNN(100, input_shape=(x.shape[1], x.shape[2]), dropout=0.5, recurrent_dropout=0.5),\n",
    "    layers.Dense(1)\n",
    "])\n",
    "print(rnn_model.summary())"
   ]
  },
  {
   "cell_type": "code",
   "execution_count": null,
   "metadata": {
    "colab": {
     "base_uri": "https://localhost:8080/",
     "height": 228
    },
    "colab_type": "code",
    "id": "6lLY8Y-06gDf",
    "outputId": "c49b6b9d-2777-405c-cb55-71a2a5df541d"
   },
   "outputs": [],
   "source": [
    "rnn_model.compile(optimizer='adam', loss='mse')\n",
    "rnn_model.fit_generator(train_gen, epochs=5)"
   ]
  },
  {
   "cell_type": "code",
   "execution_count": null,
   "metadata": {
    "colab": {
     "base_uri": "https://localhost:8080/",
     "height": 35
    },
    "colab_type": "code",
    "id": "JLM0ZI-A8S6G",
    "outputId": "8307bc81-76f9-4058-be53-9af7f4981c83"
   },
   "outputs": [],
   "source": [
    "y_pred = rnn_model.predict(x)\n",
    "print('Actual: {} | Predicted: {}'.format(y[0], y_pred[0]))"
   ]
  },
  {
   "cell_type": "markdown",
   "metadata": {
    "colab_type": "text",
    "id": "XTQdHsv27N0w"
   },
   "source": [
    "### Train an LSTM"
   ]
  },
  {
   "cell_type": "code",
   "execution_count": null,
   "metadata": {
    "colab": {
     "base_uri": "https://localhost:8080/",
     "height": 277
    },
    "colab_type": "code",
    "id": "YNW1ZWNB8W1Y",
    "outputId": "ff8059f4-b01e-42f7-dc34-de4bf604a817"
   },
   "outputs": [],
   "source": [
    "lstm_model = models.Sequential([\n",
    "    layers.Bidirectional(layers.LSTM(100, return_sequences=True, recurrent_dropout=0.5), input_shape=(x.shape[1], x.shape[2])),\n",
    "    layers.Bidirectional(layers.LSTM(100, recurrent_dropout=0.5)),\n",
    "    layers.Dense(1)\n",
    "])\n",
    "print(lstm_model.summary())"
   ]
  },
  {
   "cell_type": "code",
   "execution_count": null,
   "metadata": {
    "colab": {
     "base_uri": "https://localhost:8080/",
     "height": 228
    },
    "colab_type": "code",
    "id": "lnYqYsrd8kfw",
    "outputId": "69bdf9c3-6279-4f08-e762-f20883f0d733"
   },
   "outputs": [],
   "source": [
    "lstm_model.compile(optimizer='adam', loss='mse')\n",
    "lstm_model.fit_generator(train_gen, epochs=5)"
   ]
  },
  {
   "cell_type": "code",
   "execution_count": null,
   "metadata": {
    "colab": {
     "base_uri": "https://localhost:8080/",
     "height": 35
    },
    "colab_type": "code",
    "id": "8sw9l7b49ZMX",
    "outputId": "d7fa42a0-564b-425d-d78c-f87b25e5404c"
   },
   "outputs": [],
   "source": [
    "y_pred = lstm_model.predict(x)\n",
    "print('Actual: {} | Predicted: {}'.format(y[0], y_pred[0]))"
   ]
  },
  {
   "cell_type": "markdown",
   "metadata": {
    "colab_type": "text",
    "id": "rS9FIMSr-jBk"
   },
   "source": [
    "## Afternoon Session\n",
    "### Language Models - Encodings - Embeddings - LSTM - 1D-CNN"
   ]
  },
  {
   "cell_type": "markdown",
   "metadata": {
    "colab_type": "text",
    "id": "e9iaf4OR1ef2"
   },
   "source": [
    "### IMDB"
   ]
  },
  {
   "cell_type": "code",
   "execution_count": null,
   "metadata": {
    "colab": {},
    "colab_type": "code",
    "id": "dUE8c5dq1fph"
   },
   "outputs": [],
   "source": [
    "imdb = datasets.imdb\n",
    "\n",
    "#Let's work with a dictionary of 20,000 words\n",
    "NUM_WORDS = 20000"
   ]
  },
  {
   "cell_type": "code",
   "execution_count": null,
   "metadata": {
    "colab": {},
    "colab_type": "code",
    "id": "7arzh0m31iik"
   },
   "outputs": [],
   "source": [
    "#load IMDB dataset as lists of integers\n",
    "(train_data, train_labels), (test_data, test_labels) = imdb.load_data(num_words=NUM_WORDS, )"
   ]
  },
  {
   "cell_type": "code",
   "execution_count": null,
   "metadata": {
    "colab": {},
    "colab_type": "code",
    "id": "HVZfZerK1vXs"
   },
   "outputs": [],
   "source": [
    "word_index = imdb.get_word_index()\n",
    "\n",
    "# The first indices are reserved\n",
    "word_index = {k: (v+3) for k, v in word_index.items()}\n",
    "word_index['<PAD>'] = 0\n",
    "word_index['<START>'] = 1\n",
    "word_index['<UNK>'] = 2\n",
    "word_index['<UNUSED>'] = 3\n",
    "\n",
    "reverse_word_index = dict([(value, key) for (key, value) in word_index.items()])"
   ]
  },
  {
   "cell_type": "code",
   "execution_count": null,
   "metadata": {
    "colab": {
     "base_uri": "https://localhost:8080/",
     "height": 55
    },
    "colab_type": "code",
    "id": "0ods8C6e1yJt",
    "outputId": "24193d80-6bfe-4e77-8c93-2b8bbb464c74"
   },
   "outputs": [],
   "source": [
    "print(' '.join([reverse_word_index[i] for i in train_data[0]]))"
   ]
  },
  {
   "cell_type": "code",
   "execution_count": null,
   "metadata": {
    "colab": {
     "base_uri": "https://localhost:8080/",
     "height": 35
    },
    "colab_type": "code",
    "id": "1bzuRlwS16Re",
    "outputId": "243a9489-1ed9-4bef-b704-5171f5f7c4be"
   },
   "outputs": [],
   "source": [
    "print(train_labels[0])"
   ]
  },
  {
   "cell_type": "code",
   "execution_count": null,
   "metadata": {
    "colab": {
     "base_uri": "https://localhost:8080/",
     "height": 35
    },
    "colab_type": "code",
    "id": "SUQDkVEn6gt_",
    "outputId": "42e972d7-4a07-4714-baf7-a06c1be383cd"
   },
   "outputs": [],
   "source": [
    "print(train_labels[:5])"
   ]
  },
  {
   "cell_type": "code",
   "execution_count": null,
   "metadata": {
    "colab": {
     "base_uri": "https://localhost:8080/",
     "height": 55
    },
    "colab_type": "code",
    "id": "XSBkeMws6xO7",
    "outputId": "bc6dcd31-0634-4426-d1eb-9b9e026e9927"
   },
   "outputs": [],
   "source": [
    "print(train_data[0])"
   ]
  },
  {
   "cell_type": "markdown",
   "metadata": {
    "colab_type": "text",
    "id": "vNtg7L5w2Dkk"
   },
   "source": [
    "* inspect the length of each review"
   ]
  },
  {
   "cell_type": "code",
   "execution_count": null,
   "metadata": {
    "colab": {
     "base_uri": "https://localhost:8080/",
     "height": 35
    },
    "colab_type": "code",
    "id": "8FaX2ogA2Awj",
    "outputId": "4b3d7f6b-456c-4cea-8850-32c26d786a76"
   },
   "outputs": [],
   "source": [
    "print('Len 0: {}, Len 1: {}, Len 2: {}'.format(len(train_data[0]), len(train_data[1]), len(train_data[2])))"
   ]
  },
  {
   "cell_type": "code",
   "execution_count": null,
   "metadata": {
    "colab": {},
    "colab_type": "code",
    "id": "DOQRg4nC2M5e"
   },
   "outputs": [],
   "source": [
    "LEN_WORDS = 300\n",
    "train_data = preprocessing.sequence.pad_sequences(train_data, maxlen=LEN_WORDS)\n",
    "test_data = preprocessing.sequence.pad_sequences(test_data, maxlen=LEN_WORDS)"
   ]
  },
  {
   "cell_type": "code",
   "execution_count": null,
   "metadata": {
    "colab": {
     "base_uri": "https://localhost:8080/",
     "height": 35
    },
    "colab_type": "code",
    "id": "kjQCIyV92SC2",
    "outputId": "8f644f28-e1e1-4d17-bbc9-45f3f37a8506"
   },
   "outputs": [],
   "source": [
    "print('Len 0: {}, Len 1: {}, Len 2: {}'.format(len(train_data[0]), len(train_data[1]), len(train_data[2])))"
   ]
  },
  {
   "cell_type": "markdown",
   "metadata": {
    "colab_type": "text",
    "id": "nAIxt6mo2Wza"
   },
   "source": [
    "### DNN"
   ]
  },
  {
   "cell_type": "code",
   "execution_count": null,
   "metadata": {
    "colab": {
     "base_uri": "https://localhost:8080/",
     "height": 347
    },
    "colab_type": "code",
    "id": "OtfYivLT2Yk9",
    "outputId": "799541f0-8abb-40da-9162-0f111aa64af9"
   },
   "outputs": [],
   "source": [
    "dense_model = models.Sequential([\n",
    "    layers.Dense(300, input_shape=(300,), activation='relu'),\n",
    "    layers.Dense(300, activation='relu'),\n",
    "    layers.Dense(300, activation='relu'),\n",
    "    layers.Dense(300, activation='relu'),\n",
    "    layers.Dense(1, activation='sigmoid')\n",
    "])\n",
    "print(dense_model.summary())"
   ]
  },
  {
   "cell_type": "code",
   "execution_count": null,
   "metadata": {
    "colab": {
     "base_uri": "https://localhost:8080/",
     "height": 419
    },
    "colab_type": "code",
    "id": "axdxHIEC2clu",
    "outputId": "1842f5ba-7453-449d-8860-d516417eab13"
   },
   "outputs": [],
   "source": [
    "dense_model.compile(optimizer='adam', loss='binary_crossentropy', metrics=['accuracy'])\n",
    "dense_model.fit(train_data, train_labels, epochs=10)"
   ]
  },
  {
   "cell_type": "markdown",
   "metadata": {
    "colab_type": "text",
    "id": "jyTMwa0E2jnn"
   },
   "source": [
    "### Embeddings"
   ]
  },
  {
   "cell_type": "code",
   "execution_count": null,
   "metadata": {
    "colab": {
     "base_uri": "https://localhost:8080/",
     "height": 277
    },
    "colab_type": "code",
    "id": "y9hNC3Et2mHj",
    "outputId": "b4805923-9b4e-4821-db59-5a0c33185099"
   },
   "outputs": [],
   "source": [
    "DIMENSION = 16\n",
    "\n",
    "e_model = models.Sequential([\n",
    "    layers.Embedding(NUM_WORDS, DIMENSION, input_length=LEN_WORDS),\n",
    "    layers.GlobalAveragePooling1D(),\n",
    "    layers.Dense(1, activation='sigmoid')\n",
    "])\n",
    "print(e_model.summary())"
   ]
  },
  {
   "cell_type": "code",
   "execution_count": null,
   "metadata": {
    "colab": {
     "base_uri": "https://localhost:8080/",
     "height": 176
    },
    "colab_type": "code",
    "id": "CNKOETac2p8x",
    "outputId": "f2dbdcd6-eda1-446d-f774-0a6ff8e01697"
   },
   "outputs": [],
   "source": [
    "e_model.compile(optimizer='adam', loss='binary_crossentropy', metrics=['accuracy'])\n",
    "e_model.fit(train_data, train_labels, epochs=3)"
   ]
  },
  {
   "cell_type": "markdown",
   "metadata": {
    "colab_type": "text",
    "id": "gTlb9Lin3ZHT"
   },
   "source": [
    "### Embeddings plus LSTM"
   ]
  },
  {
   "cell_type": "code",
   "execution_count": null,
   "metadata": {
    "colab": {
     "base_uri": "https://localhost:8080/",
     "height": 277
    },
    "colab_type": "code",
    "id": "IsJVdJ3g3cQ9",
    "outputId": "b4cfdf10-cb73-48b2-96a6-03490901649b"
   },
   "outputs": [],
   "source": [
    "l_model = models.Sequential([\n",
    "    layers.Embedding(NUM_WORDS, DIMENSION, input_length=LEN_WORDS),\n",
    "    layers.LSTM(DIMENSION * 2),\n",
    "    layers.Dense(1, activation='sigmoid')\n",
    "])\n",
    "print(l_model.summary())"
   ]
  },
  {
   "cell_type": "code",
   "execution_count": null,
   "metadata": {
    "colab": {
     "base_uri": "https://localhost:8080/",
     "height": 401
    },
    "colab_type": "code",
    "id": "RuO5mulg3s8y",
    "outputId": "09074254-6a39-4fb9-d0e4-78066206648b"
   },
   "outputs": [],
   "source": [
    "l_model.compile(optimizer='adam', loss='binary_crossentropy', metrics=['accuracy'])\n",
    "l_model.fit(train_data, train_labels, epochs=3)"
   ]
  },
  {
   "cell_type": "markdown",
   "metadata": {
    "colab_type": "text",
    "id": "JV-cKWGU4PTw"
   },
   "source": [
    "### Embeddings plus Convolution"
   ]
  },
  {
   "cell_type": "code",
   "execution_count": null,
   "metadata": {
    "colab": {
     "base_uri": "https://localhost:8080/",
     "height": 312
    },
    "colab_type": "code",
    "id": "Ponv2HDd4Tpp",
    "outputId": "609febaf-1051-4e5e-f06f-3ca5315b9b9f"
   },
   "outputs": [],
   "source": [
    "c_model = models.Sequential([\n",
    "    layers.Embedding(NUM_WORDS, DIMENSION, input_length=LEN_WORDS),\n",
    "    layers.SeparableConv1D(filters=10, kernel_size=3, strides=3, padding='same'),\n",
    "    layers.GlobalAveragePooling1D(),\n",
    "    layers.Dense(1, activation='sigmoid')\n",
    "])\n",
    "print(c_model.summary())"
   ]
  },
  {
   "cell_type": "code",
   "execution_count": null,
   "metadata": {
    "colab": {
     "base_uri": "https://localhost:8080/",
     "height": 176
    },
    "colab_type": "code",
    "id": "k1d0PaG74iCN",
    "outputId": "1eb4aa6a-7650-43a6-95c1-ef5526e7e237"
   },
   "outputs": [],
   "source": [
    "c_model.compile(optimizer='adam', loss='binary_crossentropy', metrics=['accuracy'])\n",
    "c_model.fit(train_data, train_labels, epochs=3)"
   ]
  },
  {
   "cell_type": "markdown",
   "metadata": {
    "colab_type": "text",
    "id": "AhsLg4Mjwsvv"
   },
   "source": [
    "### Amazon Reviews Dataset\n",
    "* http://jmcauley.ucsd.edu/data/amazon/"
   ]
  },
  {
   "cell_type": "code",
   "execution_count": null,
   "metadata": {
    "colab": {},
    "colab_type": "code",
    "id": "99XPv7c9yyft"
   },
   "outputs": [],
   "source": [
    "import pandas as pd\n",
    "import gzip\n",
    "\n",
    "def parse(path):\n",
    "  g = gzip.open(path, 'rb')\n",
    "  for l in g:\n",
    "    yield eval(l)\n",
    "\n",
    "def getDF(path):\n",
    "  i = 0\n",
    "  df = {}\n",
    "  for d in parse(path):\n",
    "    df[i] = d\n",
    "    i += 1\n",
    "  return pd.DataFrame.from_dict(df, orient='index')\n",
    "\n",
    "df = getDF('/content/gdrive/My Drive/amazon_reviews/reviews_Automotive_5.json.gz')"
   ]
  },
  {
   "cell_type": "code",
   "execution_count": null,
   "metadata": {
    "colab": {
     "base_uri": "https://localhost:8080/",
     "height": 260
    },
    "colab_type": "code",
    "id": "WTGs4U1a-IbA",
    "outputId": "b43f2501-d5e0-402e-b31c-1dc070664e93"
   },
   "outputs": [],
   "source": [
    "df.info()"
   ]
  },
  {
   "cell_type": "code",
   "execution_count": null,
   "metadata": {
    "colab": {
     "base_uri": "https://localhost:8080/",
     "height": 603
    },
    "colab_type": "code",
    "id": "MdPfjgJKxOi8",
    "outputId": "facdc789-ae6e-48ca-c211-d953df1cad30"
   },
   "outputs": [],
   "source": [
    "df.head()"
   ]
  },
  {
   "cell_type": "code",
   "execution_count": null,
   "metadata": {
    "colab": {},
    "colab_type": "code",
    "id": "AXQKAWo3xPwF"
   },
   "outputs": [],
   "source": [
    "df = df[['reviewText', 'overall']]"
   ]
  },
  {
   "cell_type": "code",
   "execution_count": null,
   "metadata": {
    "colab": {
     "base_uri": "https://localhost:8080/",
     "height": 55
    },
    "colab_type": "code",
    "id": "fkLaMw35zSNi",
    "outputId": "4487ddfb-1354-4eb4-c9d6-c89827047ebd"
   },
   "outputs": [],
   "source": [
    "print(df['reviewText'][0])"
   ]
  },
  {
   "cell_type": "markdown",
   "metadata": {
    "colab_type": "text",
    "id": "H1eSS7YwzH8q"
   },
   "source": [
    "### Remove Special Characters"
   ]
  },
  {
   "cell_type": "code",
   "execution_count": null,
   "metadata": {
    "colab": {},
    "colab_type": "code",
    "id": "9Bfgh8OCxdJh"
   },
   "outputs": [],
   "source": [
    "import re\n",
    "\n",
    "def strip_special_chars(st):\n",
    "    my_pattern = '[A-Za-z0-9./ ]+'\n",
    "    return ''.join(re.findall(my_pattern, st))"
   ]
  },
  {
   "cell_type": "code",
   "execution_count": null,
   "metadata": {
    "colab": {
     "base_uri": "https://localhost:8080/",
     "height": 55
    },
    "colab_type": "code",
    "id": "Phv7CPpUzMZh",
    "outputId": "b0a1a226-014d-4279-bc74-9f3420367594"
   },
   "outputs": [],
   "source": [
    "df['cleanReviewText'] = df['reviewText'].apply(strip_special_chars)\n",
    "print(df['cleanReviewText'][0])"
   ]
  },
  {
   "cell_type": "markdown",
   "metadata": {
    "colab_type": "text",
    "id": "5YaYZ1ruzjaN"
   },
   "source": [
    "### Convert Ratings to Sentiment"
   ]
  },
  {
   "cell_type": "code",
   "execution_count": null,
   "metadata": {
    "colab": {
     "base_uri": "https://localhost:8080/",
     "height": 202
    },
    "colab_type": "code",
    "id": "NeeLcUitzQVB",
    "outputId": "aa96673b-52d6-4e11-80f2-7cd50e8e6ed3"
   },
   "outputs": [],
   "source": [
    "def sentiment(x):\n",
    "    if x < 3:\n",
    "        return 0\n",
    "    else:\n",
    "        return 1\n",
    "df['sentiment'] = df['overall'].apply(lambda x: sentiment(x))\n",
    "df[['cleanReviewText', 'overall', 'sentiment']].head()"
   ]
  },
  {
   "cell_type": "markdown",
   "metadata": {
    "colab_type": "text",
    "id": "1Er6B8E-0Dxz"
   },
   "source": [
    "### create features and labels"
   ]
  },
  {
   "cell_type": "code",
   "execution_count": null,
   "metadata": {
    "colab": {},
    "colab_type": "code",
    "id": "qMyBOg2Xzngf"
   },
   "outputs": [],
   "source": [
    "features = df['cleanReviewText']\n",
    "labels = df['sentiment']"
   ]
  },
  {
   "cell_type": "markdown",
   "metadata": {
    "colab_type": "text",
    "id": "vC_GRm3h0Nhy"
   },
   "source": [
    "### Get a pre-trained embedding"
   ]
  },
  {
   "cell_type": "code",
   "execution_count": null,
   "metadata": {
    "colab": {},
    "colab_type": "code",
    "id": "aKoY9lV90HGh"
   },
   "outputs": [],
   "source": [
    "import tensorflow_hub as hub"
   ]
  },
  {
   "cell_type": "code",
   "execution_count": null,
   "metadata": {
    "colab": {},
    "colab_type": "code",
    "id": "dheCqTcr0Vai"
   },
   "outputs": [],
   "source": [
    "hub_layer = hub.KerasLayer(\"https://tfhub.dev/google/tf2-preview/nnlm-en-dim50/1\", output_shape=[50], input_shape=[], dtype=tf.string)"
   ]
  },
  {
   "cell_type": "markdown",
   "metadata": {
    "colab_type": "text",
    "id": "zOwP-yQP0koT"
   },
   "source": [
    "### Add pre-trained layer to a model"
   ]
  },
  {
   "cell_type": "code",
   "execution_count": null,
   "metadata": {
    "colab": {
     "base_uri": "https://localhost:8080/",
     "height": 277
    },
    "colab_type": "code",
    "id": "qrYOsofU0Z_s",
    "outputId": "e1e00a02-52a3-4a7a-9375-00c147950d04"
   },
   "outputs": [],
   "source": [
    "from tensorflow import keras\n",
    "\n",
    "model = keras.Sequential([\n",
    "    hub_layer,\n",
    "    keras.layers.Dense(8, activation='relu'),\n",
    "    keras.layers.Dense(1, activation='sigmoid')\n",
    "])\n",
    "print(model.summary())"
   ]
  },
  {
   "cell_type": "code",
   "execution_count": null,
   "metadata": {
    "colab": {
     "base_uri": "https://localhost:8080/",
     "height": 89
    },
    "colab_type": "code",
    "id": "V2Z99cxH0rXM",
    "outputId": "d6df7884-dacf-4561-dd46-f452effa9cce"
   },
   "outputs": [],
   "source": [
    "model.compile(optimizer='adam', loss='binary_crossentropy', metrics=['accuracy'])\n",
    "model.fit(x=features.to_numpy(), y=labels.to_numpy(), epochs=1, validation_split=0.3)"
   ]
  },
  {
   "cell_type": "code",
   "execution_count": null,
   "metadata": {
    "colab": {
     "base_uri": "https://localhost:8080/",
     "height": 401
    },
    "colab_type": "code",
    "id": "8pL0CYeb05C5",
    "outputId": "3172f9b5-2aa7-4141-d7fd-3089839d2642"
   },
   "outputs": [],
   "source": [
    "model = keras.Sequential([\n",
    "    hub_layer,\n",
    "    keras.layers.Conv1D(filters=10, kernel_size=3),\n",
    "    keras.layers.Dense(1, activation='sigmoid')\n",
    "])\n",
    "print(model.summary())"
   ]
  },
  {
   "cell_type": "code",
   "execution_count": null,
   "metadata": {
    "colab": {},
    "colab_type": "code",
    "id": "__4y62KqEl4J"
   },
   "outputs": [],
   "source": []
  }
 ],
 "metadata": {
  "accelerator": "GPU",
  "colab": {
   "name": "AMMI_Day_9.ipynb",
   "provenance": []
  },
  "kernelspec": {
   "display_name": "Python 3",
   "language": "python",
   "name": "python3"
  },
  "language_info": {
   "codemirror_mode": {
    "name": "ipython",
    "version": 3
   },
   "file_extension": ".py",
   "mimetype": "text/x-python",
   "name": "python",
   "nbconvert_exporter": "python",
   "pygments_lexer": "ipython3",
   "version": "3.7.4"
  }
 },
 "nbformat": 4,
 "nbformat_minor": 1
}
